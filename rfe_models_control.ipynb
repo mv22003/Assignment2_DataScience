{
 "cells": [
  {
   "cell_type": "code",
   "execution_count": 1,
   "id": "af59d8d9",
   "metadata": {},
   "outputs": [],
   "source": [
    "# Basic libraries\n",
    "import pandas as pd\n",
    "import numpy as np\n",
    "import math\n",
    "import matplotlib.pyplot as plt\n",
    "import seaborn as sns\n",
    "import sklearn\n",
    "\n",
    "# Models\n",
    "from sklearn.dummy import DummyClassifier\n",
    "from sklearn.linear_model import SGDClassifier\n",
    "from sklearn.linear_model import LogisticRegression\n",
    "\n",
    "# Optimization\n",
    "from sklearn.model_selection import GridSearchCV\n",
    "from sklearn.metrics import make_scorer\n",
    "from sklearn.preprocessing import MinMaxScaler\n",
    "from sklearn.preprocessing import StandardScaler\n",
    "from sklearn.feature_selection import RFECV\n",
    "\n",
    "# Cross-Validation\n",
    "from sklearn.model_selection import GroupShuffleSplit \n",
    "from sklearn.model_selection import GroupKFold\n",
    "from sklearn.model_selection import StratifiedKFold\n",
    "from sklearn.model_selection import RandomizedSearchCV\n",
    "\n",
    "# Prediction Scoring\n",
    "from sklearn.model_selection import cross_val_score\n",
    "from sklearn.model_selection import cross_val_predict\n",
    "from sklearn.metrics import confusion_matrix\n",
    "from statistics import mean\n",
    "from sklearn import metrics\n",
    "from sklearn.metrics import accuracy_score\n",
    "\n",
    "# Ignore warnings\n",
    "import warnings\n",
    "warnings.simplefilter('ignore')  "
   ]
  },
  {
   "cell_type": "markdown",
   "id": "ae209573",
   "metadata": {},
   "source": [
    "### Loading the test group for prediction"
   ]
  },
  {
   "cell_type": "code",
   "execution_count": 2,
   "id": "faabf1a2",
   "metadata": {},
   "outputs": [],
   "source": [
    "# Load Features created in StartFromScratch.ipynb\n",
    "df = pd.read_csv('Final_Features_control.csv')\n",
    "\n",
    "# # Drop participant name column because its not a feature\n",
    "# df = df.drop('Participant name', axis=1)\n",
    "\n",
    "# scaler = MinMaxScaler()\n",
    "scaler = StandardScaler()\n",
    "\n",
    "columns = list(df.columns)\n",
    "columns.pop(0)\n",
    "columns.pop(-1)\n",
    "columns\n",
    "df[columns] = scaler.fit_transform(df[columns])"
   ]
  },
  {
   "cell_type": "markdown",
   "id": "563db14e",
   "metadata": {},
   "source": [
    "### Categorizing our label\n",
    "We are passing our label from a continuous to a discrete variable for a better __interpretation__ of the results and for the __simplicity__ of the predictions. We use the `pd.cut` function from pandas to create the bins and the respective label. In __Table 1__, we explain the process done."
   ]
  },
  {
   "cell_type": "code",
   "execution_count": 3,
   "id": "81d7c25a",
   "metadata": {},
   "outputs": [],
   "source": [
    "# Discretizing my label/target\n",
    "df['Empathy Score'] = pd.cut(df[\"Empathy Score\"],\n",
    "       bins=[80, 100, 110, 120, 130], \n",
    "       labels=[0, 1, 2, 3])"
   ]
  },
  {
   "cell_type": "markdown",
   "id": "b71ef6c9",
   "metadata": {},
   "source": [
    "### <center> Table 1\n",
    "| Empathy Range | Class | Label |\n",
    "| :-: | :-: | :-: |\n",
    "| <100 | Bad | 0 |\n",
    "| 100-110 | Average | 1 |\n",
    "| 110-120 | Good | 2 |\n",
    "| >120 | Outstanding | 3 |"
   ]
  },
  {
   "cell_type": "code",
   "execution_count": 4,
   "id": "7f06ee1e",
   "metadata": {},
   "outputs": [
    {
     "data": {
      "text/html": [
       "<div>\n",
       "<style scoped>\n",
       "    .dataframe tbody tr th:only-of-type {\n",
       "        vertical-align: middle;\n",
       "    }\n",
       "\n",
       "    .dataframe tbody tr th {\n",
       "        vertical-align: top;\n",
       "    }\n",
       "\n",
       "    .dataframe thead th {\n",
       "        text-align: right;\n",
       "    }\n",
       "</style>\n",
       "<table border=\"1\" class=\"dataframe\">\n",
       "  <thead>\n",
       "    <tr style=\"text-align: right;\">\n",
       "      <th></th>\n",
       "      <th>Participant name</th>\n",
       "      <th>Mean Pupil diameter left</th>\n",
       "      <th>Std Pupil diameter left</th>\n",
       "      <th>Mean Pupil diameter right</th>\n",
       "      <th>Std Pupil diameter right</th>\n",
       "      <th>Num. of Fixations</th>\n",
       "      <th>Num. of Saccades</th>\n",
       "      <th>Num. of Unclassified</th>\n",
       "      <th>Recording duration (s)</th>\n",
       "      <th>Mean Gaze event duration (s)</th>\n",
       "      <th>Mean Fixation point X</th>\n",
       "      <th>Std Fixation point X</th>\n",
       "      <th>Mean Fixation point Y</th>\n",
       "      <th>Std Fixation point Y</th>\n",
       "      <th>Mean Gaze point X</th>\n",
       "      <th>Std Gaze point X</th>\n",
       "      <th>Mean Gaze point Y</th>\n",
       "      <th>Std Gaze point Y</th>\n",
       "      <th>Empathy Score</th>\n",
       "    </tr>\n",
       "  </thead>\n",
       "  <tbody>\n",
       "    <tr>\n",
       "      <th>0</th>\n",
       "      <td>2.0</td>\n",
       "      <td>-0.432974</td>\n",
       "      <td>0.419118</td>\n",
       "      <td>-0.421194</td>\n",
       "      <td>0.464759</td>\n",
       "      <td>1.587351</td>\n",
       "      <td>1.189040</td>\n",
       "      <td>-0.146779</td>\n",
       "      <td>1.194853</td>\n",
       "      <td>-0.207512</td>\n",
       "      <td>-0.634649</td>\n",
       "      <td>-0.134460</td>\n",
       "      <td>-0.991371</td>\n",
       "      <td>0.109380</td>\n",
       "      <td>-0.779279</td>\n",
       "      <td>-0.242149</td>\n",
       "      <td>-0.647180</td>\n",
       "      <td>-0.143647</td>\n",
       "      <td>2</td>\n",
       "    </tr>\n",
       "    <tr>\n",
       "      <th>1</th>\n",
       "      <td>2.0</td>\n",
       "      <td>-0.879696</td>\n",
       "      <td>-0.040243</td>\n",
       "      <td>-0.905519</td>\n",
       "      <td>0.324219</td>\n",
       "      <td>-1.407530</td>\n",
       "      <td>-0.923646</td>\n",
       "      <td>-1.105699</td>\n",
       "      <td>-1.694376</td>\n",
       "      <td>-0.244112</td>\n",
       "      <td>0.577072</td>\n",
       "      <td>-1.720481</td>\n",
       "      <td>-0.303356</td>\n",
       "      <td>0.415151</td>\n",
       "      <td>0.549348</td>\n",
       "      <td>-1.829771</td>\n",
       "      <td>0.165859</td>\n",
       "      <td>0.930937</td>\n",
       "      <td>2</td>\n",
       "    </tr>\n",
       "    <tr>\n",
       "      <th>2</th>\n",
       "      <td>2.0</td>\n",
       "      <td>-0.617033</td>\n",
       "      <td>-0.581028</td>\n",
       "      <td>-0.705775</td>\n",
       "      <td>-0.525981</td>\n",
       "      <td>-1.541145</td>\n",
       "      <td>-0.881219</td>\n",
       "      <td>-0.809038</td>\n",
       "      <td>-1.657819</td>\n",
       "      <td>-0.247426</td>\n",
       "      <td>0.403903</td>\n",
       "      <td>-1.320230</td>\n",
       "      <td>-0.103427</td>\n",
       "      <td>-1.240654</td>\n",
       "      <td>0.527018</td>\n",
       "      <td>-1.203205</td>\n",
       "      <td>-0.003172</td>\n",
       "      <td>-1.156548</td>\n",
       "      <td>2</td>\n",
       "    </tr>\n",
       "    <tr>\n",
       "      <th>3</th>\n",
       "      <td>2.0</td>\n",
       "      <td>-0.633217</td>\n",
       "      <td>-0.447870</td>\n",
       "      <td>-0.617493</td>\n",
       "      <td>-0.373333</td>\n",
       "      <td>-1.564468</td>\n",
       "      <td>-1.079856</td>\n",
       "      <td>-1.144688</td>\n",
       "      <td>-1.825463</td>\n",
       "      <td>-0.126731</td>\n",
       "      <td>-0.448392</td>\n",
       "      <td>-0.947675</td>\n",
       "      <td>-0.038253</td>\n",
       "      <td>-0.046150</td>\n",
       "      <td>-0.476786</td>\n",
       "      <td>-1.194187</td>\n",
       "      <td>0.082513</td>\n",
       "      <td>-0.257640</td>\n",
       "      <td>2</td>\n",
       "    </tr>\n",
       "    <tr>\n",
       "      <th>4</th>\n",
       "      <td>2.0</td>\n",
       "      <td>-0.556424</td>\n",
       "      <td>-0.003391</td>\n",
       "      <td>-0.456996</td>\n",
       "      <td>0.333323</td>\n",
       "      <td>3.975823</td>\n",
       "      <td>4.980497</td>\n",
       "      <td>2.402240</td>\n",
       "      <td>5.025200</td>\n",
       "      <td>-0.283657</td>\n",
       "      <td>-0.484989</td>\n",
       "      <td>0.319513</td>\n",
       "      <td>-0.290735</td>\n",
       "      <td>0.524766</td>\n",
       "      <td>-0.619729</td>\n",
       "      <td>0.268810</td>\n",
       "      <td>0.013531</td>\n",
       "      <td>0.388368</td>\n",
       "      <td>2</td>\n",
       "    </tr>\n",
       "  </tbody>\n",
       "</table>\n",
       "</div>"
      ],
      "text/plain": [
       "   Participant name  Mean Pupil diameter left  Std Pupil diameter left  \\\n",
       "0               2.0                 -0.432974                 0.419118   \n",
       "1               2.0                 -0.879696                -0.040243   \n",
       "2               2.0                 -0.617033                -0.581028   \n",
       "3               2.0                 -0.633217                -0.447870   \n",
       "4               2.0                 -0.556424                -0.003391   \n",
       "\n",
       "   Mean Pupil diameter right  Std Pupil diameter right  Num. of Fixations  \\\n",
       "0                  -0.421194                  0.464759           1.587351   \n",
       "1                  -0.905519                  0.324219          -1.407530   \n",
       "2                  -0.705775                 -0.525981          -1.541145   \n",
       "3                  -0.617493                 -0.373333          -1.564468   \n",
       "4                  -0.456996                  0.333323           3.975823   \n",
       "\n",
       "   Num. of Saccades  Num. of Unclassified  Recording duration (s)  \\\n",
       "0          1.189040             -0.146779                1.194853   \n",
       "1         -0.923646             -1.105699               -1.694376   \n",
       "2         -0.881219             -0.809038               -1.657819   \n",
       "3         -1.079856             -1.144688               -1.825463   \n",
       "4          4.980497              2.402240                5.025200   \n",
       "\n",
       "   Mean Gaze event duration (s)  Mean Fixation point X  Std Fixation point X  \\\n",
       "0                     -0.207512              -0.634649             -0.134460   \n",
       "1                     -0.244112               0.577072             -1.720481   \n",
       "2                     -0.247426               0.403903             -1.320230   \n",
       "3                     -0.126731              -0.448392             -0.947675   \n",
       "4                     -0.283657              -0.484989              0.319513   \n",
       "\n",
       "   Mean Fixation point Y  Std Fixation point Y  Mean Gaze point X  \\\n",
       "0              -0.991371              0.109380          -0.779279   \n",
       "1              -0.303356              0.415151           0.549348   \n",
       "2              -0.103427             -1.240654           0.527018   \n",
       "3              -0.038253             -0.046150          -0.476786   \n",
       "4              -0.290735              0.524766          -0.619729   \n",
       "\n",
       "   Std Gaze point X  Mean Gaze point Y  Std Gaze point Y Empathy Score  \n",
       "0         -0.242149          -0.647180         -0.143647             2  \n",
       "1         -1.829771           0.165859          0.930937             2  \n",
       "2         -1.203205          -0.003172         -1.156548             2  \n",
       "3         -1.194187           0.082513         -0.257640             2  \n",
       "4          0.268810           0.013531          0.388368             2  "
      ]
     },
     "execution_count": 4,
     "metadata": {},
     "output_type": "execute_result"
    }
   ],
   "source": [
    "# Print DataFrame to see the results\n",
    "df.head()"
   ]
  },
  {
   "cell_type": "markdown",
   "id": "694ce293",
   "metadata": {},
   "source": [
    "### Split data using StratifiedKFold\n",
    "We are splitting our training and testing data using Group KFolds because of the nature of our labels, in essence we have a bunch of rows that that share the same label so we dont want any leakage of data from the testing data to the training data. We use this method instead of GroupKFolds because we found a bug will trying to do hyperparameter tuning. For more information: https://github.com/scikit-learn/scikit-learn/issues/22256"
   ]
  },
  {
   "cell_type": "code",
   "execution_count": 5,
   "id": "8620d764",
   "metadata": {},
   "outputs": [],
   "source": [
    "# Code to split data using StratifiedKFolds\n",
    "X = df.drop(['Participant name','Empathy Score'], axis=1)\n",
    "y = df['Empathy Score']\n",
    "gps = df['Participant name']\n",
    "cv = StratifiedKFold(5)"
   ]
  },
  {
   "cell_type": "code",
   "execution_count": 6,
   "id": "f32fdf8b",
   "metadata": {},
   "outputs": [
    {
     "name": "stdout",
     "output_type": "stream",
     "text": [
      "(118, 17)\n",
      "(29, 17)\n",
      "(118,)\n",
      "(29,)\n"
     ]
    }
   ],
   "source": [
    "for train_index, test_index in cv.split(X, y, groups=gps):\n",
    "    X_train, X_test = X.iloc[train_index], X.iloc[test_index]\n",
    "    y_train, y_test = y.iloc[train_index], y.iloc[test_index]\n",
    "    \n",
    "print(X_train.shape)\n",
    "print(X_test.shape)\n",
    "print(y_train.shape)\n",
    "print(y_test.shape)"
   ]
  },
  {
   "cell_type": "markdown",
   "id": "b039a639",
   "metadata": {},
   "source": [
    "## Classification models - control"
   ]
  },
  {
   "cell_type": "code",
   "execution_count": 7,
   "id": "e4a81904",
   "metadata": {},
   "outputs": [
    {
     "name": "stdout",
     "output_type": "stream",
     "text": [
      "Optimal # of features: 1\n"
     ]
    }
   ],
   "source": [
    "# CODE FROM: https://scikit-learn.org/stable/auto_examples/feature_selection/plot_rfe_with_cross_validation.html\n",
    "\n",
    "# TRY RFE for features with SGDC\n",
    "min_features_to_select = 1  # Minimum number of features to consider\n",
    "clf = LogisticRegression()\n",
    "\n",
    "rfecv = RFECV(\n",
    "    estimator=clf,\n",
    "    step=1,\n",
    "    cv=cv,\n",
    "    scoring=\"accuracy\",\n",
    "    min_features_to_select=min_features_to_select,\n",
    "    n_jobs=2,\n",
    ")\n",
    "rfecv.fit(X_train, y_train)\n",
    "\n",
    "print(f\"Optimal # of features: {rfecv.n_features_}\")"
   ]
  },
  {
   "cell_type": "code",
   "execution_count": 8,
   "id": "707401c4",
   "metadata": {},
   "outputs": [
    {
     "name": "stdout",
     "output_type": "stream",
     "text": [
      "Index of optimal feature: 8\n",
      "Optimal feature: Mean Gaze event duration (s)\n"
     ]
    }
   ],
   "source": [
    "print('Index of optimal feature:',rfecv.ranking_.argmin())\n",
    "print('Optimal feature:',rfecv.feature_names_in_[rfecv.ranking_.argmin()])"
   ]
  },
  {
   "cell_type": "code",
   "execution_count": 9,
   "id": "95d1449a",
   "metadata": {},
   "outputs": [
    {
     "data": {
      "image/png": "[encoded data removed]",
      "text/plain": [
       "<Figure size 640x480 with 1 Axes>"
      ]
     },
     "metadata": {},
     "output_type": "display_data"
    }
   ],
   "source": [
    "# CODE FROM: https://scikit-learn.org/stable/auto_examples/feature_selection/plot_rfe_with_cross_validation.html\n",
    "\n",
    "n_scores = len(rfecv.cv_results_[\"mean_test_score\"])\n",
    "plt.figure()\n",
    "plt.xlabel(\"Number of features selected\")\n",
    "plt.ylabel(\"Mean test accuracy\")\n",
    "plt.errorbar(\n",
    "    range(min_features_to_select, n_scores + min_features_to_select),\n",
    "    rfecv.cv_results_[\"mean_test_score\"],\n",
    "    yerr=rfecv.cv_results_[\"std_test_score\"],\n",
    ")\n",
    "plt.title(\"Recursive Feature Elimination (RFE) \\naccuracy per features selected\")\n",
    "plt.show()"
   ]
  },
  {
   "cell_type": "markdown",
   "id": "d9cab077",
   "metadata": {},
   "source": [
    "### Results\n",
    "After recognizing the best features for the predictor, we extract the accuracy of the estimator and we try to understand the behavior of the label and the feature. We can clearly see the tendency and can assume the score of the participant with this classifier."
   ]
  },
  {
   "cell_type": "code",
   "execution_count": 10,
   "id": "9ee26adb",
   "metadata": {},
   "outputs": [
    {
     "name": "stdout",
     "output_type": "stream",
     "text": [
      "Accuracy: 0.53 +/- 0.03\n"
     ]
    }
   ],
   "source": [
    "y_pred = rfecv.cv_results_[\"mean_test_score\"].max()\n",
    "y_pred_std = rfecv.cv_results_[\"std_test_score\"][rfecv.cv_results_[\"mean_test_score\"].argmax()]\n",
    "\n",
    "print('Accuracy: %.2f +/- %.2f' % ((y_pred),y_pred_std))"
   ]
  },
  {
   "cell_type": "code",
   "execution_count": 11,
   "id": "e17b33e2",
   "metadata": {},
   "outputs": [
    {
     "data": {
      "text/plain": [
       "<matplotlib.collections.PathCollection at 0x1b17d2bafd0>"
      ]
     },
     "execution_count": 11,
     "metadata": {},
     "output_type": "execute_result"
    },
    {
     "data": {
      "image/png": "[encoded data removed]",
      "text/plain": [
       "<Figure size 640x480 with 1 Axes>"
      ]
     },
     "metadata": {},
     "output_type": "display_data"
    }
   ],
   "source": [
    "xplot = X_test['Mean Gaze event duration (s)']\n",
    "yplot = y_test\n",
    "plt.xlabel('Mean Gaze event duration (s)')\n",
    "plt.ylabel('Empathy Score')\n",
    "plt.scatter(xplot,yplot)"
   ]
  },
  {
   "cell_type": "code",
   "execution_count": 12,
   "id": "afeda948",
   "metadata": {},
   "outputs": [
    {
     "data": {
      "text/plain": [
       "[<matplotlib.lines.Line2D at 0x1b17d33fd90>]"
      ]
     },
     "execution_count": 12,
     "metadata": {},
     "output_type": "execute_result"
    },
    {
     "data": {
      "image/png": "[encoded data removed]",
      "text/plain": [
       "<Figure size 640x480 with 1 Axes>"
      ]
     },
     "metadata": {},
     "output_type": "display_data"
    }
   ],
   "source": [
    "x0 = X_test['Mean Gaze event duration (s)'][:3].mean()\n",
    "x1 = X_test['Mean Gaze event duration (s)'][4:12].mean()\n",
    "x2 = X_test['Mean Gaze event duration (s)'][13:].mean()\n",
    "xplot = [x0,x1,x2]\n",
    "yplot = [0,1,2]\n",
    "plt.xlabel('Mean Gaze event duration (s)')\n",
    "plt.ylabel('Empathy Score')\n",
    "plt.plot(xplot,yplot,marker='o')"
   ]
  }
 ],
 "metadata": {
  "kernelspec": {
   "display_name": "Python 3 (ipykernel)",
   "language": "python",
   "name": "python3"
  },
  "language_info": {
   "codemirror_mode": {
    "name": "ipython",
    "version": 3
   },
   "file_extension": ".py",
   "mimetype": "text/x-python",
   "name": "python",
   "nbconvert_exporter": "python",
   "pygments_lexer": "ipython3",
   "version": "3.9.15"
  }
 },
 "nbformat": 4,
 "nbformat_minor": 5
}
