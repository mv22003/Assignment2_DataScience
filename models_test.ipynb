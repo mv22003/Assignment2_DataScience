{
 "cells": [
  {
   "cell_type": "code",
   "execution_count": 1,
   "id": "6ef5a49d",
   "metadata": {},
   "outputs": [],
   "source": [
    "# Basic libraries\n",
    "import pandas as pd\n",
    "import numpy as np\n",
    "import math\n",
    "\n",
    "# Models\n",
    "from sklearn.dummy import DummyClassifier\n",
    "from sklearn.tree import DecisionTreeClassifier\n",
    "from sklearn.ensemble import AdaBoostClassifier\n",
    "from sklearn.neural_network import MLPClassifier\n",
    "from sklearn.svm import SVC\n",
    "from sklearn.linear_model import SGDClassifier\n",
    "from sklearn.neighbors import KNeighborsClassifier\n",
    "from sklearn.neighbors import NearestCentroid\n",
    "from sklearn.ensemble import RandomForestClassifier\n",
    "from sklearn.linear_model import LogisticRegression\n",
    "\n",
    "# Optimization\n",
    "from sklearn.model_selection import GridSearchCV\n",
    "from sklearn.preprocessing import StandardScaler\n",
    "\n",
    "# Cross-Validation\n",
    "from sklearn.model_selection import GroupKFold\n",
    "\n",
    "# Prediction Scoring\n",
    "from sklearn.model_selection import cross_val_score\n",
    "from sklearn.metrics import mean_squared_error as mse\n",
    "from sklearn.metrics import make_scorer\n",
    "from statistics import mean\n",
    "\n",
    "# Ignore warnings\n",
    "import warnings\n",
    "warnings.simplefilter('ignore')  "
   ]
  },
  {
   "cell_type": "markdown",
   "id": "38af505d",
   "metadata": {},
   "source": [
    "### Loading the test group for prediction"
   ]
  },
  {
   "cell_type": "code",
   "execution_count": 2,
   "id": "8bfa35d1",
   "metadata": {},
   "outputs": [],
   "source": [
    "# Load Features created in StartFromScratch.ipynb\n",
    "df = pd.read_csv('Final_Features_test.csv')\n",
    "\n",
    "# Scale data for better perfomance\n",
    "scaler = StandardScaler()\n",
    "\n",
    "# Extract name of columns in df as a list\n",
    "columns = list(df.columns)\n",
    "\n",
    "# Eliminate both participant name and empathy column because they are not a features\n",
    "columns.pop(0)  \n",
    "columns.pop(-1)\n",
    "\n",
    "# Scale data by columns \n",
    "df[columns] = scaler.fit_transform(df[columns])"
   ]
  },
  {
   "cell_type": "markdown",
   "id": "32f060bb",
   "metadata": {},
   "source": [
    "### Categorizing our label\n",
    "We are passing our label from a continuous to a discrete variable for a better __interpretation__ of the results and for the __simplicity__ of the predictions. We use the `pd.cut` function from pandas to create the bins and the respective label. In __Table 1__, we explain the process done."
   ]
  },
  {
   "cell_type": "code",
   "execution_count": 3,
   "id": "e08d9b89",
   "metadata": {},
   "outputs": [],
   "source": [
    "# Discretizing my label/target\n",
    "df['Empathy Score'] = pd.cut(df[\"Empathy Score\"],\n",
    "       bins=[80, 100, 110, 120, 130], \n",
    "       labels=[0, 1, 2, 3])"
   ]
  },
  {
   "cell_type": "markdown",
   "id": "932b8cec",
   "metadata": {},
   "source": [
    "### <center> Table 1\n",
    "| Empathy Range | Class | Label |\n",
    "| :-: | :-: | :-: |\n",
    "| <100 | Bad | 0 |\n",
    "| 100-110 | Average | 1 |\n",
    "| 110-120 | Good | 2 |\n",
    "| >120 | Outstanding | 3 |"
   ]
  },
  {
   "cell_type": "code",
   "execution_count": 4,
   "id": "3ac91da3",
   "metadata": {},
   "outputs": [
    {
     "data": {
      "text/html": [
       "<div>\n",
       "<style scoped>\n",
       "    .dataframe tbody tr th:only-of-type {\n",
       "        vertical-align: middle;\n",
       "    }\n",
       "\n",
       "    .dataframe tbody tr th {\n",
       "        vertical-align: top;\n",
       "    }\n",
       "\n",
       "    .dataframe thead th {\n",
       "        text-align: right;\n",
       "    }\n",
       "</style>\n",
       "<table border=\"1\" class=\"dataframe\">\n",
       "  <thead>\n",
       "    <tr style=\"text-align: right;\">\n",
       "      <th></th>\n",
       "      <th>Participant name</th>\n",
       "      <th>Mean Pupil diameter left</th>\n",
       "      <th>Std Pupil diameter left</th>\n",
       "      <th>Mean Pupil diameter right</th>\n",
       "      <th>Std Pupil diameter right</th>\n",
       "      <th>Num. of Fixations</th>\n",
       "      <th>Num. of Saccades</th>\n",
       "      <th>Num. of Unclassified</th>\n",
       "      <th>Recording duration (s)</th>\n",
       "      <th>Mean Gaze event duration (s)</th>\n",
       "      <th>Mean Fixation point X</th>\n",
       "      <th>Std Fixation point X</th>\n",
       "      <th>Mean Fixation point Y</th>\n",
       "      <th>Std Fixation point Y</th>\n",
       "      <th>Mean Gaze point X</th>\n",
       "      <th>Std Gaze point X</th>\n",
       "      <th>Mean Gaze point Y</th>\n",
       "      <th>Std Gaze point Y</th>\n",
       "      <th>Empathy Score</th>\n",
       "    </tr>\n",
       "  </thead>\n",
       "  <tbody>\n",
       "    <tr>\n",
       "      <th>0</th>\n",
       "      <td>1.0</td>\n",
       "      <td>-0.089633</td>\n",
       "      <td>-0.814297</td>\n",
       "      <td>-0.196801</td>\n",
       "      <td>-0.876958</td>\n",
       "      <td>-0.098426</td>\n",
       "      <td>0.379303</td>\n",
       "      <td>-0.355026</td>\n",
       "      <td>-0.204618</td>\n",
       "      <td>-0.293486</td>\n",
       "      <td>1.662709</td>\n",
       "      <td>0.222486</td>\n",
       "      <td>-1.385322</td>\n",
       "      <td>-0.507767</td>\n",
       "      <td>1.866861</td>\n",
       "      <td>0.241699</td>\n",
       "      <td>-1.953166</td>\n",
       "      <td>-0.962940</td>\n",
       "      <td>3</td>\n",
       "    </tr>\n",
       "    <tr>\n",
       "      <th>1</th>\n",
       "      <td>1.0</td>\n",
       "      <td>-0.204996</td>\n",
       "      <td>-0.575084</td>\n",
       "      <td>-0.247813</td>\n",
       "      <td>-0.750402</td>\n",
       "      <td>-0.123609</td>\n",
       "      <td>0.038046</td>\n",
       "      <td>-0.614439</td>\n",
       "      <td>-0.413981</td>\n",
       "      <td>-0.315063</td>\n",
       "      <td>0.822417</td>\n",
       "      <td>1.022072</td>\n",
       "      <td>-1.011522</td>\n",
       "      <td>-0.429986</td>\n",
       "      <td>0.872312</td>\n",
       "      <td>1.171768</td>\n",
       "      <td>-1.211816</td>\n",
       "      <td>-1.184586</td>\n",
       "      <td>3</td>\n",
       "    </tr>\n",
       "    <tr>\n",
       "      <th>2</th>\n",
       "      <td>1.0</td>\n",
       "      <td>-0.162118</td>\n",
       "      <td>-1.071167</td>\n",
       "      <td>-0.142893</td>\n",
       "      <td>-1.213951</td>\n",
       "      <td>-0.474775</td>\n",
       "      <td>-0.019179</td>\n",
       "      <td>-0.614439</td>\n",
       "      <td>-0.615296</td>\n",
       "      <td>-0.421633</td>\n",
       "      <td>0.638070</td>\n",
       "      <td>0.134267</td>\n",
       "      <td>-0.326136</td>\n",
       "      <td>-0.123241</td>\n",
       "      <td>0.638859</td>\n",
       "      <td>0.031482</td>\n",
       "      <td>-0.480517</td>\n",
       "      <td>-0.398963</td>\n",
       "      <td>3</td>\n",
       "    </tr>\n",
       "    <tr>\n",
       "      <th>3</th>\n",
       "      <td>1.0</td>\n",
       "      <td>-0.251455</td>\n",
       "      <td>-0.969113</td>\n",
       "      <td>-0.234711</td>\n",
       "      <td>-1.115633</td>\n",
       "      <td>0.374458</td>\n",
       "      <td>0.709393</td>\n",
       "      <td>-0.370985</td>\n",
       "      <td>0.221591</td>\n",
       "      <td>-0.388220</td>\n",
       "      <td>0.550088</td>\n",
       "      <td>-0.864774</td>\n",
       "      <td>-0.419745</td>\n",
       "      <td>-0.033322</td>\n",
       "      <td>0.650658</td>\n",
       "      <td>-1.107551</td>\n",
       "      <td>-0.456417</td>\n",
       "      <td>-0.585927</td>\n",
       "      <td>3</td>\n",
       "    </tr>\n",
       "    <tr>\n",
       "      <th>4</th>\n",
       "      <td>1.0</td>\n",
       "      <td>-0.277955</td>\n",
       "      <td>-0.826529</td>\n",
       "      <td>-0.230868</td>\n",
       "      <td>-1.018470</td>\n",
       "      <td>-0.255401</td>\n",
       "      <td>0.046421</td>\n",
       "      <td>-0.564525</td>\n",
       "      <td>-0.453132</td>\n",
       "      <td>-0.308629</td>\n",
       "      <td>0.921692</td>\n",
       "      <td>0.202833</td>\n",
       "      <td>-0.267798</td>\n",
       "      <td>-0.243033</td>\n",
       "      <td>1.071226</td>\n",
       "      <td>0.286408</td>\n",
       "      <td>-0.341328</td>\n",
       "      <td>-0.583934</td>\n",
       "      <td>3</td>\n",
       "    </tr>\n",
       "  </tbody>\n",
       "</table>\n",
       "</div>"
      ],
      "text/plain": [
       "   Participant name  Mean Pupil diameter left  Std Pupil diameter left  \\\n",
       "0               1.0                 -0.089633                -0.814297   \n",
       "1               1.0                 -0.204996                -0.575084   \n",
       "2               1.0                 -0.162118                -1.071167   \n",
       "3               1.0                 -0.251455                -0.969113   \n",
       "4               1.0                 -0.277955                -0.826529   \n",
       "\n",
       "   Mean Pupil diameter right  Std Pupil diameter right  Num. of Fixations  \\\n",
       "0                  -0.196801                 -0.876958          -0.098426   \n",
       "1                  -0.247813                 -0.750402          -0.123609   \n",
       "2                  -0.142893                 -1.213951          -0.474775   \n",
       "3                  -0.234711                 -1.115633           0.374458   \n",
       "4                  -0.230868                 -1.018470          -0.255401   \n",
       "\n",
       "   Num. of Saccades  Num. of Unclassified  Recording duration (s)  \\\n",
       "0          0.379303             -0.355026               -0.204618   \n",
       "1          0.038046             -0.614439               -0.413981   \n",
       "2         -0.019179             -0.614439               -0.615296   \n",
       "3          0.709393             -0.370985                0.221591   \n",
       "4          0.046421             -0.564525               -0.453132   \n",
       "\n",
       "   Mean Gaze event duration (s)  Mean Fixation point X  Std Fixation point X  \\\n",
       "0                     -0.293486               1.662709              0.222486   \n",
       "1                     -0.315063               0.822417              1.022072   \n",
       "2                     -0.421633               0.638070              0.134267   \n",
       "3                     -0.388220               0.550088             -0.864774   \n",
       "4                     -0.308629               0.921692              0.202833   \n",
       "\n",
       "   Mean Fixation point Y  Std Fixation point Y  Mean Gaze point X  \\\n",
       "0              -1.385322             -0.507767           1.866861   \n",
       "1              -1.011522             -0.429986           0.872312   \n",
       "2              -0.326136             -0.123241           0.638859   \n",
       "3              -0.419745             -0.033322           0.650658   \n",
       "4              -0.267798             -0.243033           1.071226   \n",
       "\n",
       "   Std Gaze point X  Mean Gaze point Y  Std Gaze point Y Empathy Score  \n",
       "0          0.241699          -1.953166         -0.962940             3  \n",
       "1          1.171768          -1.211816         -1.184586             3  \n",
       "2          0.031482          -0.480517         -0.398963             3  \n",
       "3         -1.107551          -0.456417         -0.585927             3  \n",
       "4          0.286408          -0.341328         -0.583934             3  "
      ]
     },
     "execution_count": 4,
     "metadata": {},
     "output_type": "execute_result"
    }
   ],
   "source": [
    "# Print DataFrame to see the results\n",
    "df.head()"
   ]
  },
  {
   "cell_type": "markdown",
   "id": "0be3b454",
   "metadata": {},
   "source": [
    "### Split data using KFolds\n",
    "We are splitting our training and testing data using Group KFolds because of the nature of our labels, in essence we have a bunch of rows that that share the same label so we dont want any leakage of data from the testing data to the training data. In this code we separate the features and our label first and then create the k-folds."
   ]
  },
  {
   "cell_type": "code",
   "execution_count": 5,
   "id": "9cb7ee06",
   "metadata": {},
   "outputs": [],
   "source": [
    "# Drop participant name and empathy column because they are not a feature\n",
    "X = df.drop(['Participant name','Empathy Score'], axis=1)\n",
    "\n",
    "# Store label in variable 'y'\n",
    "y = df['Empathy Score']\n",
    "\n",
    "# Store group indexes in 'gps'\n",
    "gps = df['Participant name']\n",
    "\n",
    "# Create Group KFolds\n",
    "kf = GroupKFold(n_splits=5)"
   ]
  },
  {
   "cell_type": "code",
   "execution_count": 6,
   "id": "ffced05d",
   "metadata": {},
   "outputs": [],
   "source": [
    "for train_index, test_index in kf.split(X, y, groups=gps):\n",
    "    X_train, X_test = X.iloc[train_index], X.iloc[test_index]\n",
    "    y_train, y_test = y.iloc[train_index], y.iloc[test_index]"
   ]
  },
  {
   "cell_type": "code",
   "execution_count": 7,
   "id": "d0d98a6c",
   "metadata": {},
   "outputs": [
    {
     "name": "stdout",
     "output_type": "stream",
     "text": [
      "(288, 17)\n",
      "(73, 17)\n",
      "(288,)\n",
      "(73,)\n"
     ]
    }
   ],
   "source": [
    "print(X_train.shape)\n",
    "print(X_test.shape)\n",
    "print(y_train.shape)\n",
    "print(y_test.shape)"
   ]
  },
  {
   "cell_type": "markdown",
   "id": "b4c65e03",
   "metadata": {},
   "source": [
    "## Classification Models"
   ]
  },
  {
   "cell_type": "code",
   "execution_count": 8,
   "id": "59c519a9",
   "metadata": {},
   "outputs": [
    {
     "name": "stdout",
     "output_type": "stream",
     "text": [
      "Accuracy SGDC:     0.36 +/- 0.22 *** \n",
      "\n",
      "Accuracy NCC:      0.34 +/- 0.12\n",
      "Accuracy NN:       0.34 +/- 0.21\n",
      "Accuracy LOGR:     0.29 +/- 0.18 \n",
      "\n",
      "Accuracy Adaboost: 0.28 +/- 0.10\n",
      "Accuracy DT:       0.28 +/- 0.19\n",
      "Accuracy RFR:      0.28 +/- 0.14 \n",
      "\n",
      "Accuracy KNN:      0.30 +/- 0.21\n",
      "Accuracy SVC:      0.23 +/- 0.15\n",
      "Accuracy Dummy:    0.12 +/- 0.15\n"
     ]
    }
   ],
   "source": [
    "# DUMMY CLASSIFIER\n",
    "dummy = DummyClassifier(strategy ='prior') \n",
    "dummy.fit(X_train, y_train)\n",
    "y_pred_dummy = cross_val_score(dummy, X, y, cv=kf, groups=gps, scoring='balanced_accuracy')\n",
    "\n",
    "# DECISION TREE CLASSIFIER\n",
    "# dt = DecisionTreeClassifier(criterion='gini',max_depth=5,min_samples_leaf=4,min_samples_split=7,random_state=13)\n",
    "dt = DecisionTreeClassifier()\n",
    "dt.fit(X_train, y_train)\n",
    "y_pred_dt = cross_val_score(dt, X, y, cv=kf, groups=gps, scoring='balanced_accuracy')\n",
    "\n",
    "# ADABOOST CLASSIFIER\n",
    "ada = AdaBoostClassifier(n_estimators=100)\n",
    "ada.fit(X_train, y_train)\n",
    "y_pred_ada = cross_val_score(ada, X, y, cv=kf, groups=gps, scoring='balanced_accuracy')\n",
    "\n",
    "# NN CLASSIFIER\n",
    "nn = MLPClassifier(solver='lbfgs',alpha=1e-5,hidden_layer_sizes=(5, 2),random_state=1)\n",
    "nn.fit(X_train, y_train)\n",
    "y_pred_nn = cross_val_score(nn, X, y, cv=kf, groups=gps, scoring='balanced_accuracy')\n",
    "\n",
    "# SVM CLASSIFIER\n",
    "svc = SVC(random_state=13)\n",
    "svc.fit(X_train, y_train)\n",
    "y_pred_svc = cross_val_score(svc, X, y, cv=kf, groups=gps, scoring='balanced_accuracy')\n",
    "\n",
    "# SGD CLASSIFIER\n",
    "sgd = SGDClassifier(random_state=13)\n",
    "sgd.fit(X_train, y_train)\n",
    "y_pred_sgd = cross_val_score(sgd, X, y, cv=kf, groups=gps, scoring='balanced_accuracy')\n",
    "\n",
    "# KNN CLASSIFIER\n",
    "knn = KNeighborsClassifier()\n",
    "knn.fit(X_train, y_train)\n",
    "y_pred_knn = cross_val_score(knn, X, y, cv=kf, groups=gps, scoring='balanced_accuracy')\n",
    "\n",
    "# NEAREST CENTROID\n",
    "ncc = NearestCentroid()\n",
    "ncc.fit(X_train, y_train)\n",
    "y_pred_ncc = cross_val_score(ncc, X, y, cv=kf, groups=gps, scoring='balanced_accuracy')\n",
    "\n",
    "# RANDOM FORREST\n",
    "rfr = RandomForestClassifier(n_estimators=300, random_state=13)\n",
    "rfr.fit(X_train, y_train)\n",
    "y_pred_rfr = cross_val_score(rfr, X, y, cv=kf, groups=gps, scoring='balanced_accuracy')\n",
    "\n",
    "# LOGISTIC REGRESSION\n",
    "logreg = LogisticRegression(random_state=13)\n",
    "logreg.fit(X_train, y_train)\n",
    "y_pred_logreg = cross_val_score(logreg, X, y, cv=kf, groups=gps, scoring='balanced_accuracy')\n",
    "\n",
    "# RESULTS\n",
    "print('Accuracy SGDC:     %.2f +/- %.2f' % ((y_pred_sgd.mean()),y_pred_sgd.std()),'***','\\n')\n",
    "print('Accuracy NCC:      %.2f +/- %.2f' % ((y_pred_ncc.mean()),y_pred_ncc.std()))\n",
    "print('Accuracy NN:       %.2f +/- %.2f' % ((y_pred_nn.mean()),y_pred_nn.std()))\n",
    "print('Accuracy LOGR:     %.2f +/- %.2f' % ((y_pred_logreg.mean()),y_pred_logreg.std()),'\\n')\n",
    "print('Accuracy Adaboost: %.2f +/- %.2f' % ((y_pred_ada.mean()),y_pred_ada.std()))\n",
    "print('Accuracy DT:       %.2f +/- %.2f' % ((y_pred_dt.mean()),y_pred_dt.std()))\n",
    "print('Accuracy RFR:      %.2f +/- %.2f' % ((y_pred_rfr.mean()),y_pred_rfr.std()),'\\n')\n",
    "print('Accuracy KNN:      %.2f +/- %.2f' % ((y_pred_knn.mean()),y_pred_knn.std()))\n",
    "print('Accuracy SVC:      %.2f +/- %.2f' % ((y_pred_svc.mean()),y_pred_svc.std()))\n",
    "print('Accuracy Dummy:    %.2f +/- %.2f' % ((y_pred_dummy.mean()),y_pred_dummy.std()))"
   ]
  },
  {
   "cell_type": "markdown",
   "id": "4fc5d5be",
   "metadata": {},
   "source": [
    "## Explainability of results"
   ]
  },
  {
   "cell_type": "markdown",
   "id": "a1e9ce91",
   "metadata": {},
   "source": [
    "In the case of the __test group__, the __best classifier__ was `SGDClassifier`, so we are going to extract the best __features__ to understand the __behaviour__ of our predictor per class. With this in mind, we are plotting the __best predictor__ (__feature__ in this case) for each class, and their respective __coefficient or weight__."
   ]
  },
  {
   "cell_type": "code",
   "execution_count": 9,
   "id": "57648b06",
   "metadata": {},
   "outputs": [
    {
     "name": "stdout",
     "output_type": "stream",
     "text": [
      "Feature: Mean Pupil diameter left\n",
      "Coef: 6.40\n",
      "Feature: Std Gaze point X\n",
      "Coef: 17.41\n",
      "Feature: Std Fixation point Y\n",
      "Coef: 5.18\n",
      "Feature: Std Pupil diameter left\n",
      "Coef: 21.66\n"
     ]
    }
   ],
   "source": [
    "max_class = sgd.coef_.argmax(axis=1)\n",
    "\n",
    "for i in range(sgd.coef_.shape[0]):\n",
    "    print('Feature:', sgd.feature_names_in_[max_class[i]])\n",
    "    print('Coef: %.2f' % sgd.coef_[i,max_class[i]])"
   ]
  },
  {
   "cell_type": "markdown",
   "id": "e3547824",
   "metadata": {},
   "source": [
    "^^^ __The outcome of this coefficient corresponds to the weight of the feature when this label is predicted.__"
   ]
  },
  {
   "cell_type": "markdown",
   "id": "8030a49d",
   "metadata": {},
   "source": [
    "***TEST GROUP ONLY HAS EMPATHY SCORES FOR THE ENTIRE LABELS***"
   ]
  },
  {
   "cell_type": "code",
   "execution_count": 10,
   "id": "b588a4ef",
   "metadata": {},
   "outputs": [
    {
     "data": {
      "text/plain": [
       "[3, 1, 2, 0]\n",
       "Categories (4, int64): [0 < 1 < 2 < 3]"
      ]
     },
     "execution_count": 10,
     "metadata": {},
     "output_type": "execute_result"
    }
   ],
   "source": [
    "df['Empathy Score'].unique()"
   ]
  },
  {
   "cell_type": "code",
   "execution_count": 11,
   "id": "138ccde5",
   "metadata": {},
   "outputs": [],
   "source": [
    "# sgd.feature_names_in_[14]"
   ]
  },
  {
   "cell_type": "code",
   "execution_count": 12,
   "id": "62eb5580",
   "metadata": {},
   "outputs": [],
   "source": [
    "# max_class = sgd.coef_.argmax(axis=1)\n",
    "# max_class"
   ]
  }
 ],
 "metadata": {
  "kernelspec": {
   "display_name": "Python 3 (ipykernel)",
   "language": "python",
   "name": "python3"
  },
  "language_info": {
   "codemirror_mode": {
    "name": "ipython",
    "version": 3
   },
   "file_extension": ".py",
   "mimetype": "text/x-python",
   "name": "python",
   "nbconvert_exporter": "python",
   "pygments_lexer": "ipython3",
   "version": "3.9.15"
  }
 },
 "nbformat": 4,
 "nbformat_minor": 5
}
