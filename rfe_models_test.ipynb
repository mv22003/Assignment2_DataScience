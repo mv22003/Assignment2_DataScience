{
 "cells": [
  {
   "cell_type": "code",
   "execution_count": 1,
   "id": "88377a74",
   "metadata": {},
   "outputs": [],
   "source": [
    "# Basic libraries\n",
    "import pandas as pd\n",
    "import numpy as np\n",
    "import math\n",
    "import matplotlib.pyplot as plt\n",
    "import seaborn as sns\n",
    "import sklearn\n",
    "\n",
    "# Models\n",
    "from sklearn.dummy import DummyClassifier\n",
    "from sklearn.linear_model import SGDClassifier\n",
    "from sklearn.linear_model import LogisticRegression\n",
    "\n",
    "# Optimization\n",
    "from sklearn.model_selection import GridSearchCV\n",
    "from sklearn.metrics import make_scorer\n",
    "from sklearn.preprocessing import MinMaxScaler\n",
    "from sklearn.preprocessing import StandardScaler\n",
    "from sklearn.feature_selection import RFECV\n",
    "\n",
    "# Cross-Validation\n",
    "from sklearn.model_selection import GroupShuffleSplit \n",
    "from sklearn.model_selection import GroupKFold\n",
    "from sklearn.model_selection import StratifiedKFold\n",
    "from sklearn.model_selection import RandomizedSearchCV\n",
    "\n",
    "# Prediction Scoring\n",
    "from sklearn.model_selection import cross_val_score\n",
    "from sklearn.model_selection import cross_val_predict\n",
    "from sklearn.metrics import confusion_matrix\n",
    "from statistics import mean\n",
    "from sklearn import metrics\n",
    "from sklearn.metrics import accuracy_score\n",
    "\n",
    "# Ignore warnings\n",
    "import warnings\n",
    "warnings.simplefilter('ignore')  "
   ]
  },
  {
   "cell_type": "markdown",
   "id": "b7dbfde4",
   "metadata": {},
   "source": [
    "### Loading the test group for prediction"
   ]
  },
  {
   "cell_type": "code",
   "execution_count": 2,
   "id": "37660ed5",
   "metadata": {},
   "outputs": [],
   "source": [
    "# Load Features created in StartFromScratch.ipynb\n",
    "df = pd.read_csv('Final_Features_test.csv')\n",
    "\n",
    "# # Drop participant name column because its not a feature\n",
    "# df = df.drop('Participant name', axis=1)\n",
    "\n",
    "# scaler = MinMaxScaler()\n",
    "scaler = StandardScaler()\n",
    "\n",
    "columns = list(df.columns)\n",
    "columns.pop(0)\n",
    "columns.pop(-1)\n",
    "columns\n",
    "df[columns] = scaler.fit_transform(df[columns])"
   ]
  },
  {
   "cell_type": "markdown",
   "id": "a96ccf4f",
   "metadata": {},
   "source": [
    "### Categorizing our label\n",
    "We are passing our label from a continuous to a discrete variable for a better __interpretation__ of the results and for the __simplicity__ of the predictions. We use the `pd.cut` function from pandas to create the bins and the respective label. In __Table 1__, we explain the process done."
   ]
  },
  {
   "cell_type": "code",
   "execution_count": 3,
   "id": "03fd98ab",
   "metadata": {},
   "outputs": [],
   "source": [
    "# Discretizing my label/target\n",
    "df['Empathy Score'] = pd.cut(df[\"Empathy Score\"],\n",
    "       bins=[80, 100, 110, 120, 130], \n",
    "       labels=[0, 1, 2, 3])"
   ]
  },
  {
   "cell_type": "markdown",
   "id": "cfe7e1ae",
   "metadata": {},
   "source": [
    "### <center> Table 1\n",
    "| Empathy Range | Class | Label |\n",
    "| :-: | :-: | :-: |\n",
    "| <100 | Bad | 0 |\n",
    "| 100-110 | Average | 1 |\n",
    "| 110-120 | Good | 2 |\n",
    "| >120 | Outstanding | 3 |"
   ]
  },
  {
   "cell_type": "code",
   "execution_count": 4,
   "id": "63b20072",
   "metadata": {},
   "outputs": [
    {
     "data": {
      "text/html": [
       "<div>\n",
       "<style scoped>\n",
       "    .dataframe tbody tr th:only-of-type {\n",
       "        vertical-align: middle;\n",
       "    }\n",
       "\n",
       "    .dataframe tbody tr th {\n",
       "        vertical-align: top;\n",
       "    }\n",
       "\n",
       "    .dataframe thead th {\n",
       "        text-align: right;\n",
       "    }\n",
       "</style>\n",
       "<table border=\"1\" class=\"dataframe\">\n",
       "  <thead>\n",
       "    <tr style=\"text-align: right;\">\n",
       "      <th></th>\n",
       "      <th>Participant name</th>\n",
       "      <th>Mean Pupil diameter left</th>\n",
       "      <th>Std Pupil diameter left</th>\n",
       "      <th>Mean Pupil diameter right</th>\n",
       "      <th>Std Pupil diameter right</th>\n",
       "      <th>Num. of Fixations</th>\n",
       "      <th>Num. of Saccades</th>\n",
       "      <th>Num. of Unclassified</th>\n",
       "      <th>Recording duration (s)</th>\n",
       "      <th>Mean Gaze event duration (s)</th>\n",
       "      <th>Mean Fixation point X</th>\n",
       "      <th>Std Fixation point X</th>\n",
       "      <th>Mean Fixation point Y</th>\n",
       "      <th>Std Fixation point Y</th>\n",
       "      <th>Mean Gaze point X</th>\n",
       "      <th>Std Gaze point X</th>\n",
       "      <th>Mean Gaze point Y</th>\n",
       "      <th>Std Gaze point Y</th>\n",
       "      <th>Empathy Score</th>\n",
       "    </tr>\n",
       "  </thead>\n",
       "  <tbody>\n",
       "    <tr>\n",
       "      <th>0</th>\n",
       "      <td>1.0</td>\n",
       "      <td>-0.089633</td>\n",
       "      <td>-0.814297</td>\n",
       "      <td>-0.196801</td>\n",
       "      <td>-0.876958</td>\n",
       "      <td>-0.098426</td>\n",
       "      <td>0.379303</td>\n",
       "      <td>-0.355026</td>\n",
       "      <td>-0.204618</td>\n",
       "      <td>-0.293486</td>\n",
       "      <td>1.662709</td>\n",
       "      <td>0.222486</td>\n",
       "      <td>-1.385322</td>\n",
       "      <td>-0.507767</td>\n",
       "      <td>1.866861</td>\n",
       "      <td>0.241699</td>\n",
       "      <td>-1.953166</td>\n",
       "      <td>-0.962940</td>\n",
       "      <td>3</td>\n",
       "    </tr>\n",
       "    <tr>\n",
       "      <th>1</th>\n",
       "      <td>1.0</td>\n",
       "      <td>-0.204996</td>\n",
       "      <td>-0.575084</td>\n",
       "      <td>-0.247813</td>\n",
       "      <td>-0.750402</td>\n",
       "      <td>-0.123609</td>\n",
       "      <td>0.038046</td>\n",
       "      <td>-0.614439</td>\n",
       "      <td>-0.413981</td>\n",
       "      <td>-0.315063</td>\n",
       "      <td>0.822417</td>\n",
       "      <td>1.022072</td>\n",
       "      <td>-1.011522</td>\n",
       "      <td>-0.429986</td>\n",
       "      <td>0.872312</td>\n",
       "      <td>1.171768</td>\n",
       "      <td>-1.211816</td>\n",
       "      <td>-1.184586</td>\n",
       "      <td>3</td>\n",
       "    </tr>\n",
       "    <tr>\n",
       "      <th>2</th>\n",
       "      <td>1.0</td>\n",
       "      <td>-0.162118</td>\n",
       "      <td>-1.071167</td>\n",
       "      <td>-0.142893</td>\n",
       "      <td>-1.213951</td>\n",
       "      <td>-0.474775</td>\n",
       "      <td>-0.019179</td>\n",
       "      <td>-0.614439</td>\n",
       "      <td>-0.615296</td>\n",
       "      <td>-0.421633</td>\n",
       "      <td>0.638070</td>\n",
       "      <td>0.134267</td>\n",
       "      <td>-0.326136</td>\n",
       "      <td>-0.123241</td>\n",
       "      <td>0.638859</td>\n",
       "      <td>0.031482</td>\n",
       "      <td>-0.480517</td>\n",
       "      <td>-0.398963</td>\n",
       "      <td>3</td>\n",
       "    </tr>\n",
       "    <tr>\n",
       "      <th>3</th>\n",
       "      <td>1.0</td>\n",
       "      <td>-0.251455</td>\n",
       "      <td>-0.969113</td>\n",
       "      <td>-0.234711</td>\n",
       "      <td>-1.115633</td>\n",
       "      <td>0.374458</td>\n",
       "      <td>0.709393</td>\n",
       "      <td>-0.370985</td>\n",
       "      <td>0.221591</td>\n",
       "      <td>-0.388220</td>\n",
       "      <td>0.550088</td>\n",
       "      <td>-0.864774</td>\n",
       "      <td>-0.419745</td>\n",
       "      <td>-0.033322</td>\n",
       "      <td>0.650658</td>\n",
       "      <td>-1.107551</td>\n",
       "      <td>-0.456417</td>\n",
       "      <td>-0.585927</td>\n",
       "      <td>3</td>\n",
       "    </tr>\n",
       "    <tr>\n",
       "      <th>4</th>\n",
       "      <td>1.0</td>\n",
       "      <td>-0.277955</td>\n",
       "      <td>-0.826529</td>\n",
       "      <td>-0.230868</td>\n",
       "      <td>-1.018470</td>\n",
       "      <td>-0.255401</td>\n",
       "      <td>0.046421</td>\n",
       "      <td>-0.564525</td>\n",
       "      <td>-0.453132</td>\n",
       "      <td>-0.308629</td>\n",
       "      <td>0.921692</td>\n",
       "      <td>0.202833</td>\n",
       "      <td>-0.267798</td>\n",
       "      <td>-0.243033</td>\n",
       "      <td>1.071226</td>\n",
       "      <td>0.286408</td>\n",
       "      <td>-0.341328</td>\n",
       "      <td>-0.583934</td>\n",
       "      <td>3</td>\n",
       "    </tr>\n",
       "  </tbody>\n",
       "</table>\n",
       "</div>"
      ],
      "text/plain": [
       "   Participant name  Mean Pupil diameter left  Std Pupil diameter left  \\\n",
       "0               1.0                 -0.089633                -0.814297   \n",
       "1               1.0                 -0.204996                -0.575084   \n",
       "2               1.0                 -0.162118                -1.071167   \n",
       "3               1.0                 -0.251455                -0.969113   \n",
       "4               1.0                 -0.277955                -0.826529   \n",
       "\n",
       "   Mean Pupil diameter right  Std Pupil diameter right  Num. of Fixations  \\\n",
       "0                  -0.196801                 -0.876958          -0.098426   \n",
       "1                  -0.247813                 -0.750402          -0.123609   \n",
       "2                  -0.142893                 -1.213951          -0.474775   \n",
       "3                  -0.234711                 -1.115633           0.374458   \n",
       "4                  -0.230868                 -1.018470          -0.255401   \n",
       "\n",
       "   Num. of Saccades  Num. of Unclassified  Recording duration (s)  \\\n",
       "0          0.379303             -0.355026               -0.204618   \n",
       "1          0.038046             -0.614439               -0.413981   \n",
       "2         -0.019179             -0.614439               -0.615296   \n",
       "3          0.709393             -0.370985                0.221591   \n",
       "4          0.046421             -0.564525               -0.453132   \n",
       "\n",
       "   Mean Gaze event duration (s)  Mean Fixation point X  Std Fixation point X  \\\n",
       "0                     -0.293486               1.662709              0.222486   \n",
       "1                     -0.315063               0.822417              1.022072   \n",
       "2                     -0.421633               0.638070              0.134267   \n",
       "3                     -0.388220               0.550088             -0.864774   \n",
       "4                     -0.308629               0.921692              0.202833   \n",
       "\n",
       "   Mean Fixation point Y  Std Fixation point Y  Mean Gaze point X  \\\n",
       "0              -1.385322             -0.507767           1.866861   \n",
       "1              -1.011522             -0.429986           0.872312   \n",
       "2              -0.326136             -0.123241           0.638859   \n",
       "3              -0.419745             -0.033322           0.650658   \n",
       "4              -0.267798             -0.243033           1.071226   \n",
       "\n",
       "   Std Gaze point X  Mean Gaze point Y  Std Gaze point Y Empathy Score  \n",
       "0          0.241699          -1.953166         -0.962940             3  \n",
       "1          1.171768          -1.211816         -1.184586             3  \n",
       "2          0.031482          -0.480517         -0.398963             3  \n",
       "3         -1.107551          -0.456417         -0.585927             3  \n",
       "4          0.286408          -0.341328         -0.583934             3  "
      ]
     },
     "execution_count": 4,
     "metadata": {},
     "output_type": "execute_result"
    }
   ],
   "source": [
    "# Print DataFrame to see the results\n",
    "df.head()"
   ]
  },
  {
   "cell_type": "markdown",
   "id": "d1fdcf4c",
   "metadata": {},
   "source": [
    "### Split data using StratifiedKFold\n",
    "We are splitting our training and testing data using Group KFolds because of the nature of our labels, in essence we have a bunch of rows that that share the same label so we dont want any leakage of data from the testing data to the training data. We use this method instead of GroupKFolds because we found a bug will trying to do hyperparameter tuning. For more information: https://github.com/scikit-learn/scikit-learn/issues/22256"
   ]
  },
  {
   "cell_type": "code",
   "execution_count": 5,
   "id": "93c5a7cb",
   "metadata": {},
   "outputs": [],
   "source": [
    "# Code to split data using StratifiedKFolds\n",
    "X = df.drop(['Participant name','Empathy Score'], axis=1)\n",
    "y = df['Empathy Score']\n",
    "gps = df['Participant name']\n",
    "cv = StratifiedKFold(5)"
   ]
  },
  {
   "cell_type": "code",
   "execution_count": 6,
   "id": "fad1e2b6",
   "metadata": {},
   "outputs": [
    {
     "name": "stdout",
     "output_type": "stream",
     "text": [
      "(289, 17)\n",
      "(72, 17)\n",
      "(289,)\n",
      "(72,)\n"
     ]
    }
   ],
   "source": [
    "for train_index, test_index in cv.split(X, y, groups=gps):\n",
    "    X_train, X_test = X.iloc[train_index], X.iloc[test_index]\n",
    "    y_train, y_test = y.iloc[train_index], y.iloc[test_index]\n",
    "    \n",
    "print(X_train.shape)\n",
    "print(X_test.shape)\n",
    "print(y_train.shape)\n",
    "print(y_test.shape)"
   ]
  },
  {
   "cell_type": "markdown",
   "id": "e1c3782b",
   "metadata": {},
   "source": [
    "## Classification models - test"
   ]
  },
  {
   "cell_type": "code",
   "execution_count": 7,
   "id": "be7ec55d",
   "metadata": {},
   "outputs": [
    {
     "name": "stdout",
     "output_type": "stream",
     "text": [
      "Optimal number of features: 5\n"
     ]
    }
   ],
   "source": [
    "# CODE FROM: https://scikit-learn.org/stable/auto_examples/feature_selection/plot_rfe_with_cross_validation.html\n",
    "\n",
    "# TRY RFE for features with SGDC\n",
    "min_features_to_select = 1  # Minimum number of features to consider\n",
    "clf = SGDClassifier(random_state=13)\n",
    "\n",
    "rfecv = RFECV(\n",
    "    estimator=clf,\n",
    "    step=1,\n",
    "    cv=cv,\n",
    "    scoring=\"accuracy\",\n",
    "    min_features_to_select=min_features_to_select,\n",
    "    n_jobs=2)\n",
    "rfecv.fit(X_train, y_train)\n",
    "\n",
    "print(f\"Optimal number of features: {rfecv.n_features_}\")"
   ]
  },
  {
   "cell_type": "code",
   "execution_count": 8,
   "id": "2d1dca68",
   "metadata": {},
   "outputs": [
    {
     "name": "stdout",
     "output_type": "stream",
     "text": [
      "[ 1  1  1  1  7 11  9 13 12 10  2  6  4  8  1  5  3]\n",
      "['Mean Pupil diameter left' 'Std Pupil diameter left'\n",
      " 'Mean Pupil diameter right' 'Std Pupil diameter right'\n",
      " 'Num. of Fixations' 'Num. of Saccades' 'Num. of Unclassified'\n",
      " 'Recording duration (s)' 'Mean Gaze event duration (s)'\n",
      " 'Mean Fixation point X' 'Std Fixation point X' 'Mean Fixation point Y'\n",
      " 'Std Fixation point Y' 'Mean Gaze point X' 'Std Gaze point X'\n",
      " 'Mean Gaze point Y' 'Std Gaze point Y']\n"
     ]
    }
   ],
   "source": [
    "print(rfecv.ranking_)\n",
    "print(rfecv.feature_names_in_)"
   ]
  },
  {
   "cell_type": "code",
   "execution_count": 9,
   "id": "42deb6d8",
   "metadata": {},
   "outputs": [
    {
     "data": {
      "image/png": "[encoded data removed]",
      "text/plain": [
       "<Figure size 640x480 with 1 Axes>"
      ]
     },
     "metadata": {},
     "output_type": "display_data"
    }
   ],
   "source": [
    "# CODE FROM: https://scikit-learn.org/stable/auto_examples/feature_selection/plot_rfe_with_cross_validation.html\n",
    "\n",
    "n_scores = len(rfecv.cv_results_[\"mean_test_score\"])\n",
    "plt.figure()\n",
    "plt.xlabel(\"Number of features selected\")\n",
    "plt.ylabel(\"Mean test accuracy\")\n",
    "plt.errorbar(\n",
    "    range(min_features_to_select, n_scores + min_features_to_select),\n",
    "    rfecv.cv_results_[\"mean_test_score\"],\n",
    "    yerr=rfecv.cv_results_[\"std_test_score\"],\n",
    ")\n",
    "plt.title(\"Recursive Feature Elimination (RFE) \\naccuracy per features selected\")\n",
    "plt.show()"
   ]
  },
  {
   "cell_type": "markdown",
   "id": "73bb0385",
   "metadata": {},
   "source": [
    "### Results\n",
    "After recognizing the best features for the predictor, we extract the accuracy of the estimator."
   ]
  },
  {
   "cell_type": "code",
   "execution_count": 10,
   "id": "2b7fdff9",
   "metadata": {},
   "outputs": [
    {
     "name": "stdout",
     "output_type": "stream",
     "text": [
      "Accuracy: 0.39 +/- 0.11\n"
     ]
    }
   ],
   "source": [
    "y_pred = rfecv.cv_results_[\"mean_test_score\"].max()\n",
    "y_pred_std = rfecv.cv_results_[\"std_test_score\"][rfecv.cv_results_[\"mean_test_score\"].argmax()]\n",
    "\n",
    "print('Accuracy: %.2f +/- %.2f' % ((y_pred),y_pred_std))"
   ]
  }
 ],
 "metadata": {
  "kernelspec": {
   "display_name": "Python 3 (ipykernel)",
   "language": "python",
   "name": "python3"
  },
  "language_info": {
   "codemirror_mode": {
    "name": "ipython",
    "version": 3
   },
   "file_extension": ".py",
   "mimetype": "text/x-python",
   "name": "python",
   "nbconvert_exporter": "python",
   "pygments_lexer": "ipython3",
   "version": "3.9.15"
  }
 },
 "nbformat": 4,
 "nbformat_minor": 5
}
