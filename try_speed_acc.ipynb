{
 "cells": [
  {
   "cell_type": "code",
   "execution_count": 5,
   "outputs": [
    {
     "name": "stdout",
     "output_type": "stream",
     "text": [
      "Collecting fsspec\n",
      "  Downloading fsspec-2023.9.2-py3-none-any.whl (173 kB)\n",
      "     -------------------------------------- 173.4/173.4 kB 3.5 MB/s eta 0:00:00\n",
      "Installing collected packages: fsspec\n",
      "Successfully installed fsspec-2023.9.2\n"
     ]
    }
   ],
   "source": [
    "#!pip install fsspec"
   ],
   "metadata": {
    "collapsed": false,
    "pycharm": {
     "name": "#%%\n"
    }
   }
  },
  {
   "cell_type": "code",
   "execution_count": 6,
   "outputs": [],
   "source": [
    "#Libraries\n",
    "import pandas as pd\n",
    "import numpy as np\n",
    "#from datetime import dt\n",
    "import math\n",
    "import os\n",
    "\n",
    "# Import code developed and functions\n",
    "from feature_extraction import preprocess, flatten, label, select_group\n",
    "\n",
    "# Ignore warnings of appending dataframes\n",
    "import warnings\n",
    "warnings.simplefilter('ignore')"
   ],
   "metadata": {
    "collapsed": false,
    "pycharm": {
     "name": "#%%\n"
    }
   }
  },
  {
   "cell_type": "code",
   "execution_count": 7,
   "metadata": {
    "pycharm": {
     "name": "#%%\n"
    }
   },
   "outputs": [],
   "source": [
    "path = 'C:\\\\Users\\\\mverd\\\\Desktop\\\\IMD\\\\ESSEX\\\\PredictingEmpathy\\\\rawdata\\\\'\n",
    "fname = 'test\\\\Participant0059.tsv'  # ANA: it's better not to call a  variable \"name\", as it's one of the protected words in python\n",
    "path = ''\n",
    "fname = 'C://Users/Ana/Desktop/Participant0001.tsv'"
   ]
  },
  {
   "cell_type": "code",
   "execution_count": 10,
   "metadata": {
    "pycharm": {
     "name": "#%%\n"
    }
   },
   "outputs": [
    {
     "data": {
      "text/plain": "       Recording timestamp Participant name Recording name  \\\n3083              23419315  Participant0001     Recording1   \n3084              23426120  Participant0001     Recording1   \n3085              23434449  Participant0001     Recording1   \n3086              23442782  Participant0001     Recording1   \n3087              23451119  Participant0001     Recording1   \n...                    ...              ...            ...   \n82494             43375993  Participant0001     Recording8   \n82495             43384336  Participant0001     Recording8   \n82496             43393702  Participant0001     Recording8   \n82497             43393702  Participant0001     Recording8   \n82498             43432292  Participant0001     Recording8   \n\n       Recording duration  Pupil diameter left  Pupil diameter right  \\\n3083                83579                  NaN                   NaN   \n3084                83579                  NaN                   NaN   \n3085                83579                  NaN                   NaN   \n3086                83579                 3.21                  3.14   \n3087                83579                  NaN                   NaN   \n...                   ...                  ...                   ...   \n82494               43548                  NaN                   NaN   \n82495               43548                  NaN                   NaN   \n82496               43548                  NaN                   NaN   \n82497               43548                  NaN                   NaN   \n82498               43548                  NaN                   NaN   \n\n       Gaze point X (MCSnorm)  Gaze point Y (MCSnorm) Eye movement type  \\\n3083                      NaN                     NaN          Fixation   \n3084                   0.5011                  0.3203          Fixation   \n3085                   0.5016                  0.3244          Fixation   \n3086                   0.5016                  0.3202          Fixation   \n3087                   0.5079                  0.3145          Fixation   \n...                       ...                     ...               ...   \n82494                     NaN                     NaN      EyesNotFound   \n82495                     NaN                     NaN      EyesNotFound   \n82496                     NaN                     NaN               NaN   \n82497                     NaN                     NaN               NaN   \n82498                     NaN                     NaN               NaN   \n\n       Gaze event duration  Fixation point X (MCSnorm)  \\\n3083                 117.0                      0.5073   \n3084                 117.0                      0.5073   \n3085                 117.0                      0.5073   \n3086                 117.0                      0.5073   \n3087                 117.0                      0.5073   \n...                    ...                         ...   \n82494                922.0                         NaN   \n82495                922.0                         NaN   \n82496                  NaN                         NaN   \n82497                  NaN                         NaN   \n82498                  NaN                         NaN   \n\n       Fixation point Y (MCSnorm)  \n3083                        0.316  \n3084                        0.316  \n3085                        0.316  \n3086                        0.316  \n3087                        0.316  \n...                           ...  \n82494                         NaN  \n82495                         NaN  \n82496                         NaN  \n82497                         NaN  \n82498                         NaN  \n\n[71206 rows x 12 columns]",
      "text/html": "<div>\n<style scoped>\n    .dataframe tbody tr th:only-of-type {\n        vertical-align: middle;\n    }\n\n    .dataframe tbody tr th {\n        vertical-align: top;\n    }\n\n    .dataframe thead th {\n        text-align: right;\n    }\n</style>\n<table border=\"1\" class=\"dataframe\">\n  <thead>\n    <tr style=\"text-align: right;\">\n      <th></th>\n      <th>Recording timestamp</th>\n      <th>Participant name</th>\n      <th>Recording name</th>\n      <th>Recording duration</th>\n      <th>Pupil diameter left</th>\n      <th>Pupil diameter right</th>\n      <th>Gaze point X (MCSnorm)</th>\n      <th>Gaze point Y (MCSnorm)</th>\n      <th>Eye movement type</th>\n      <th>Gaze event duration</th>\n      <th>Fixation point X (MCSnorm)</th>\n      <th>Fixation point Y (MCSnorm)</th>\n    </tr>\n  </thead>\n  <tbody>\n    <tr>\n      <th>3083</th>\n      <td>23419315</td>\n      <td>Participant0001</td>\n      <td>Recording1</td>\n      <td>83579</td>\n      <td>NaN</td>\n      <td>NaN</td>\n      <td>NaN</td>\n      <td>NaN</td>\n      <td>Fixation</td>\n      <td>117.0</td>\n      <td>0.5073</td>\n      <td>0.316</td>\n    </tr>\n    <tr>\n      <th>3084</th>\n      <td>23426120</td>\n      <td>Participant0001</td>\n      <td>Recording1</td>\n      <td>83579</td>\n      <td>NaN</td>\n      <td>NaN</td>\n      <td>0.5011</td>\n      <td>0.3203</td>\n      <td>Fixation</td>\n      <td>117.0</td>\n      <td>0.5073</td>\n      <td>0.316</td>\n    </tr>\n    <tr>\n      <th>3085</th>\n      <td>23434449</td>\n      <td>Participant0001</td>\n      <td>Recording1</td>\n      <td>83579</td>\n      <td>NaN</td>\n      <td>NaN</td>\n      <td>0.5016</td>\n      <td>0.3244</td>\n      <td>Fixation</td>\n      <td>117.0</td>\n      <td>0.5073</td>\n      <td>0.316</td>\n    </tr>\n    <tr>\n      <th>3086</th>\n      <td>23442782</td>\n      <td>Participant0001</td>\n      <td>Recording1</td>\n      <td>83579</td>\n      <td>3.21</td>\n      <td>3.14</td>\n      <td>0.5016</td>\n      <td>0.3202</td>\n      <td>Fixation</td>\n      <td>117.0</td>\n      <td>0.5073</td>\n      <td>0.316</td>\n    </tr>\n    <tr>\n      <th>3087</th>\n      <td>23451119</td>\n      <td>Participant0001</td>\n      <td>Recording1</td>\n      <td>83579</td>\n      <td>NaN</td>\n      <td>NaN</td>\n      <td>0.5079</td>\n      <td>0.3145</td>\n      <td>Fixation</td>\n      <td>117.0</td>\n      <td>0.5073</td>\n      <td>0.316</td>\n    </tr>\n    <tr>\n      <th>...</th>\n      <td>...</td>\n      <td>...</td>\n      <td>...</td>\n      <td>...</td>\n      <td>...</td>\n      <td>...</td>\n      <td>...</td>\n      <td>...</td>\n      <td>...</td>\n      <td>...</td>\n      <td>...</td>\n      <td>...</td>\n    </tr>\n    <tr>\n      <th>82494</th>\n      <td>43375993</td>\n      <td>Participant0001</td>\n      <td>Recording8</td>\n      <td>43548</td>\n      <td>NaN</td>\n      <td>NaN</td>\n      <td>NaN</td>\n      <td>NaN</td>\n      <td>EyesNotFound</td>\n      <td>922.0</td>\n      <td>NaN</td>\n      <td>NaN</td>\n    </tr>\n    <tr>\n      <th>82495</th>\n      <td>43384336</td>\n      <td>Participant0001</td>\n      <td>Recording8</td>\n      <td>43548</td>\n      <td>NaN</td>\n      <td>NaN</td>\n      <td>NaN</td>\n      <td>NaN</td>\n      <td>EyesNotFound</td>\n      <td>922.0</td>\n      <td>NaN</td>\n      <td>NaN</td>\n    </tr>\n    <tr>\n      <th>82496</th>\n      <td>43393702</td>\n      <td>Participant0001</td>\n      <td>Recording8</td>\n      <td>43548</td>\n      <td>NaN</td>\n      <td>NaN</td>\n      <td>NaN</td>\n      <td>NaN</td>\n      <td>NaN</td>\n      <td>NaN</td>\n      <td>NaN</td>\n      <td>NaN</td>\n    </tr>\n    <tr>\n      <th>82497</th>\n      <td>43393702</td>\n      <td>Participant0001</td>\n      <td>Recording8</td>\n      <td>43548</td>\n      <td>NaN</td>\n      <td>NaN</td>\n      <td>NaN</td>\n      <td>NaN</td>\n      <td>NaN</td>\n      <td>NaN</td>\n      <td>NaN</td>\n      <td>NaN</td>\n    </tr>\n    <tr>\n      <th>82498</th>\n      <td>43432292</td>\n      <td>Participant0001</td>\n      <td>Recording8</td>\n      <td>43548</td>\n      <td>NaN</td>\n      <td>NaN</td>\n      <td>NaN</td>\n      <td>NaN</td>\n      <td>NaN</td>\n      <td>NaN</td>\n      <td>NaN</td>\n      <td>NaN</td>\n    </tr>\n  </tbody>\n</table>\n<p>71206 rows × 12 columns</p>\n</div>"
     },
     "execution_count": 10,
     "metadata": {},
     "output_type": "execute_result"
    }
   ],
   "source": [
    "df_table = pd.read_table(path + fname, sep='\\t',low_memory=False)\n",
    "\n",
    "# Remove calibration points in recording\n",
    "startPoints = df_table[df_table['Event']=='ImageStimulusStart'].index.values.astype(int)\n",
    "endPoints = df_table[df_table['Event']=='ImageStimulusEnd'].index.values.astype(int)\n",
    "\n",
    "# Store only image stimulus\n",
    "df = pd.DataFrame()\n",
    "\n",
    "for i in range(len(startPoints)):\n",
    "    start = startPoints[i]\n",
    "    end = endPoints[i]\n",
    "\n",
    "    trial = df_table.iloc[start:end+1]\n",
    "    df = pd.concat([df,trial])\n",
    "\n",
    "# Columns we are keeping\n",
    "df_col = ['Recording timestamp','Participant name',\n",
    "            'Recording name','Recording duration',\n",
    "            'Pupil diameter left','Pupil diameter right',\n",
    "            'Gaze point X (MCSnorm)','Gaze point Y (MCSnorm)',\n",
    "            'Eye movement type','Gaze event duration',\n",
    "            'Fixation point X (MCSnorm)','Fixation point Y (MCSnorm)']\n",
    "\n",
    "# Removing columns\n",
    "df_features = df[df_col]\n",
    "\n",
    "# Columns that need to be changed from object to float\n",
    "objColumns = ['Pupil diameter left','Pupil diameter right','Gaze point X (MCSnorm)',\n",
    "                'Gaze point Y (MCSnorm)','Fixation point X (MCSnorm)','Fixation point Y (MCSnorm)']\n",
    "\n",
    "# Change (commas) to (decimals) and convert object to float64\n",
    "for feature in objColumns:\n",
    "    df_features[feature] = df_features[feature].str.replace(',','.').astype(float)\n",
    "\n",
    "df_features"
   ]
  },
  {
   "cell_type": "code",
   "execution_count": 30,
   "outputs": [
    {
     "data": {
      "text/plain": "3083          NaN\n3084     0.006805\n3085     0.008329\n3086     0.008333\n3087     0.008337\n           ...   \n82494    0.008336\n82495    0.008343\n82496    0.009366\n82497    0.000000\n82498    0.038590\nName: Time, Length: 71206, dtype: float64"
     },
     "execution_count": 30,
     "metadata": {},
     "output_type": "execute_result"
    }
   ],
   "source": [
    "df_features['Time'] = pd.to_datetime(df_features['Recording timestamp']).astype(np.int64)/int(1e6)  # seconds\n",
    "df_features['Time'].diff()  # if we've done it right, this should be approx 1/sfreq = 1/120 = 0.00833  (if sfreq=120Hz)"
   ],
   "metadata": {
    "collapsed": false,
    "pycharm": {
     "name": "#%%\n"
    }
   }
  },
  {
   "cell_type": "code",
   "execution_count": 31,
   "outputs": [
    {
     "data": {
      "text/plain": "       Recording timestamp Participant name Recording name  \\\n3083              23419315  Participant0001     Recording1   \n3084              23426120  Participant0001     Recording1   \n3085              23434449  Participant0001     Recording1   \n3086              23442782  Participant0001     Recording1   \n3087              23451119  Participant0001     Recording1   \n...                    ...              ...            ...   \n82494             43375993  Participant0001     Recording8   \n82495             43384336  Participant0001     Recording8   \n82496             43393702  Participant0001     Recording8   \n82497             43393702  Participant0001     Recording8   \n82498             43432292  Participant0001     Recording8   \n\n       Recording duration  Pupil diameter left  Pupil diameter right  \\\n3083                83579                  NaN                   NaN   \n3084                83579                  NaN                   NaN   \n3085                83579                  NaN                   NaN   \n3086                83579                 3.21                  3.14   \n3087                83579                  NaN                   NaN   \n...                   ...                  ...                   ...   \n82494               43548                  NaN                   NaN   \n82495               43548                  NaN                   NaN   \n82496               43548                  NaN                   NaN   \n82497               43548                  NaN                   NaN   \n82498               43548                  NaN                   NaN   \n\n       Gaze point X (MCSnorm)  Gaze point Y (MCSnorm) Eye movement type  \\\n3083                      NaN                     NaN          Fixation   \n3084                   0.5011                  0.3203          Fixation   \n3085                   0.5016                  0.3244          Fixation   \n3086                   0.5016                  0.3202          Fixation   \n3087                   0.5079                  0.3145          Fixation   \n...                       ...                     ...               ...   \n82494                     NaN                     NaN      EyesNotFound   \n82495                     NaN                     NaN      EyesNotFound   \n82496                     NaN                     NaN               NaN   \n82497                     NaN                     NaN               NaN   \n82498                     NaN                     NaN               NaN   \n\n       Gaze event duration  Fixation point X (MCSnorm)  \\\n3083                 117.0                      0.5073   \n3084                 117.0                      0.5073   \n3085                 117.0                      0.5073   \n3086                 117.0                      0.5073   \n3087                 117.0                      0.5073   \n...                    ...                         ...   \n82494                922.0                         NaN   \n82495                922.0                         NaN   \n82496                  NaN                         NaN   \n82497                  NaN                         NaN   \n82498                  NaN                         NaN   \n\n       Fixation point Y (MCSnorm)       Time  Delta Time  Distance     Speed  \n3083                        0.316  23.419315         NaN       NaN       NaN  \n3084                        0.316  23.426120    0.006805  0.594721       NaN  \n3085                        0.316  23.434449    0.008329  0.597359  0.316716  \n3086                        0.316  23.442782    0.008333  0.595089 -0.272458  \n3087                        0.316  23.451119    0.008337  0.597388  0.275815  \n...                           ...        ...         ...       ...       ...  \n82494                         NaN  43.375993    0.008336       NaN       NaN  \n82495                         NaN  43.384336    0.008343       NaN       NaN  \n82496                         NaN  43.393702    0.009366       NaN       NaN  \n82497                         NaN  43.393702    0.000000       NaN       NaN  \n82498                         NaN  43.432292    0.038590       NaN       NaN  \n\n[71206 rows x 16 columns]",
      "text/html": "<div>\n<style scoped>\n    .dataframe tbody tr th:only-of-type {\n        vertical-align: middle;\n    }\n\n    .dataframe tbody tr th {\n        vertical-align: top;\n    }\n\n    .dataframe thead th {\n        text-align: right;\n    }\n</style>\n<table border=\"1\" class=\"dataframe\">\n  <thead>\n    <tr style=\"text-align: right;\">\n      <th></th>\n      <th>Recording timestamp</th>\n      <th>Participant name</th>\n      <th>Recording name</th>\n      <th>Recording duration</th>\n      <th>Pupil diameter left</th>\n      <th>Pupil diameter right</th>\n      <th>Gaze point X (MCSnorm)</th>\n      <th>Gaze point Y (MCSnorm)</th>\n      <th>Eye movement type</th>\n      <th>Gaze event duration</th>\n      <th>Fixation point X (MCSnorm)</th>\n      <th>Fixation point Y (MCSnorm)</th>\n      <th>Time</th>\n      <th>Delta Time</th>\n      <th>Distance</th>\n      <th>Speed</th>\n    </tr>\n  </thead>\n  <tbody>\n    <tr>\n      <th>3083</th>\n      <td>23419315</td>\n      <td>Participant0001</td>\n      <td>Recording1</td>\n      <td>83579</td>\n      <td>NaN</td>\n      <td>NaN</td>\n      <td>NaN</td>\n      <td>NaN</td>\n      <td>Fixation</td>\n      <td>117.0</td>\n      <td>0.5073</td>\n      <td>0.316</td>\n      <td>23.419315</td>\n      <td>NaN</td>\n      <td>NaN</td>\n      <td>NaN</td>\n    </tr>\n    <tr>\n      <th>3084</th>\n      <td>23426120</td>\n      <td>Participant0001</td>\n      <td>Recording1</td>\n      <td>83579</td>\n      <td>NaN</td>\n      <td>NaN</td>\n      <td>0.5011</td>\n      <td>0.3203</td>\n      <td>Fixation</td>\n      <td>117.0</td>\n      <td>0.5073</td>\n      <td>0.316</td>\n      <td>23.426120</td>\n      <td>0.006805</td>\n      <td>0.594721</td>\n      <td>NaN</td>\n    </tr>\n    <tr>\n      <th>3085</th>\n      <td>23434449</td>\n      <td>Participant0001</td>\n      <td>Recording1</td>\n      <td>83579</td>\n      <td>NaN</td>\n      <td>NaN</td>\n      <td>0.5016</td>\n      <td>0.3244</td>\n      <td>Fixation</td>\n      <td>117.0</td>\n      <td>0.5073</td>\n      <td>0.316</td>\n      <td>23.434449</td>\n      <td>0.008329</td>\n      <td>0.597359</td>\n      <td>0.316716</td>\n    </tr>\n    <tr>\n      <th>3086</th>\n      <td>23442782</td>\n      <td>Participant0001</td>\n      <td>Recording1</td>\n      <td>83579</td>\n      <td>3.21</td>\n      <td>3.14</td>\n      <td>0.5016</td>\n      <td>0.3202</td>\n      <td>Fixation</td>\n      <td>117.0</td>\n      <td>0.5073</td>\n      <td>0.316</td>\n      <td>23.442782</td>\n      <td>0.008333</td>\n      <td>0.595089</td>\n      <td>-0.272458</td>\n    </tr>\n    <tr>\n      <th>3087</th>\n      <td>23451119</td>\n      <td>Participant0001</td>\n      <td>Recording1</td>\n      <td>83579</td>\n      <td>NaN</td>\n      <td>NaN</td>\n      <td>0.5079</td>\n      <td>0.3145</td>\n      <td>Fixation</td>\n      <td>117.0</td>\n      <td>0.5073</td>\n      <td>0.316</td>\n      <td>23.451119</td>\n      <td>0.008337</td>\n      <td>0.597388</td>\n      <td>0.275815</td>\n    </tr>\n    <tr>\n      <th>...</th>\n      <td>...</td>\n      <td>...</td>\n      <td>...</td>\n      <td>...</td>\n      <td>...</td>\n      <td>...</td>\n      <td>...</td>\n      <td>...</td>\n      <td>...</td>\n      <td>...</td>\n      <td>...</td>\n      <td>...</td>\n      <td>...</td>\n      <td>...</td>\n      <td>...</td>\n      <td>...</td>\n    </tr>\n    <tr>\n      <th>82494</th>\n      <td>43375993</td>\n      <td>Participant0001</td>\n      <td>Recording8</td>\n      <td>43548</td>\n      <td>NaN</td>\n      <td>NaN</td>\n      <td>NaN</td>\n      <td>NaN</td>\n      <td>EyesNotFound</td>\n      <td>922.0</td>\n      <td>NaN</td>\n      <td>NaN</td>\n      <td>43.375993</td>\n      <td>0.008336</td>\n      <td>NaN</td>\n      <td>NaN</td>\n    </tr>\n    <tr>\n      <th>82495</th>\n      <td>43384336</td>\n      <td>Participant0001</td>\n      <td>Recording8</td>\n      <td>43548</td>\n      <td>NaN</td>\n      <td>NaN</td>\n      <td>NaN</td>\n      <td>NaN</td>\n      <td>EyesNotFound</td>\n      <td>922.0</td>\n      <td>NaN</td>\n      <td>NaN</td>\n      <td>43.384336</td>\n      <td>0.008343</td>\n      <td>NaN</td>\n      <td>NaN</td>\n    </tr>\n    <tr>\n      <th>82496</th>\n      <td>43393702</td>\n      <td>Participant0001</td>\n      <td>Recording8</td>\n      <td>43548</td>\n      <td>NaN</td>\n      <td>NaN</td>\n      <td>NaN</td>\n      <td>NaN</td>\n      <td>NaN</td>\n      <td>NaN</td>\n      <td>NaN</td>\n      <td>NaN</td>\n      <td>43.393702</td>\n      <td>0.009366</td>\n      <td>NaN</td>\n      <td>NaN</td>\n    </tr>\n    <tr>\n      <th>82497</th>\n      <td>43393702</td>\n      <td>Participant0001</td>\n      <td>Recording8</td>\n      <td>43548</td>\n      <td>NaN</td>\n      <td>NaN</td>\n      <td>NaN</td>\n      <td>NaN</td>\n      <td>NaN</td>\n      <td>NaN</td>\n      <td>NaN</td>\n      <td>NaN</td>\n      <td>43.393702</td>\n      <td>0.000000</td>\n      <td>NaN</td>\n      <td>NaN</td>\n    </tr>\n    <tr>\n      <th>82498</th>\n      <td>43432292</td>\n      <td>Participant0001</td>\n      <td>Recording8</td>\n      <td>43548</td>\n      <td>NaN</td>\n      <td>NaN</td>\n      <td>NaN</td>\n      <td>NaN</td>\n      <td>NaN</td>\n      <td>NaN</td>\n      <td>NaN</td>\n      <td>NaN</td>\n      <td>43.432292</td>\n      <td>0.038590</td>\n      <td>NaN</td>\n      <td>NaN</td>\n    </tr>\n  </tbody>\n</table>\n<p>71206 rows × 16 columns</p>\n</div>"
     },
     "execution_count": 31,
     "metadata": {},
     "output_type": "execute_result"
    }
   ],
   "source": [
    "df_features['Delta Time'] = df_features['Time'].diff()  # seconds\n",
    "df_features['Distance'] = np.sqrt(df_features['Gaze point X (MCSnorm)']**2 + df_features['Gaze point Y (MCSnorm)']**2)\n",
    "df_features['Speed'] = df_features['Distance'].diff() / df_features['Delta Time']  # ANA: Fixed this: it should be delta_position / delta_time (it originally was 'position/delta_time'\n",
    "df_features  # MCSnorm/sec"
   ],
   "metadata": {
    "collapsed": false,
    "pycharm": {
     "name": "#%%\n"
    }
   }
  },
  {
   "cell_type": "code",
   "execution_count": 32,
   "outputs": [
    {
     "name": "stdout",
     "output_type": "stream",
     "text": [
      "<class 'pandas.core.frame.DataFrame'>\n",
      "Int64Index: 71206 entries, 3083 to 82498\n",
      "Data columns (total 16 columns):\n",
      " #   Column                      Non-Null Count  Dtype  \n",
      "---  ------                      --------------  -----  \n",
      " 0   Recording timestamp         71206 non-null  int64  \n",
      " 1   Participant name            71206 non-null  object \n",
      " 2   Recording name              71206 non-null  object \n",
      " 3   Recording duration          71206 non-null  int64  \n",
      " 4   Pupil diameter left         22320 non-null  float64\n",
      " 5   Pupil diameter right        22221 non-null  float64\n",
      " 6   Gaze point X (MCSnorm)      50429 non-null  float64\n",
      " 7   Gaze point Y (MCSnorm)      50429 non-null  float64\n",
      " 8   Eye movement type           71189 non-null  object \n",
      " 9   Gaze event duration         71189 non-null  float64\n",
      " 10  Fixation point X (MCSnorm)  27653 non-null  float64\n",
      " 11  Fixation point Y (MCSnorm)  27653 non-null  float64\n",
      " 12  Time                        71206 non-null  float64\n",
      " 13  Delta Time                  71205 non-null  float64\n",
      " 14  Distance                    50429 non-null  float64\n",
      " 15  Speed                       49293 non-null  float64\n",
      "dtypes: float64(11), int64(2), object(3)\n",
      "memory usage: 11.3+ MB\n"
     ]
    }
   ],
   "source": [
    "df_features.info()"
   ],
   "metadata": {
    "collapsed": false,
    "pycharm": {
     "name": "#%%\n"
    }
   }
  },
  {
   "cell_type": "code",
   "execution_count": null,
   "metadata": {
    "pycharm": {
     "name": "#%%\n"
    }
   },
   "outputs": [],
   "source": []
  }
 ],
 "metadata": {
  "kernelspec": {
   "display_name": "tensorflow-gpu",
   "language": "python",
   "name": "python3"
  },
  "language_info": {
   "codemirror_mode": {
    "name": "ipython",
    "version": 3
   },
   "file_extension": ".py",
   "mimetype": "text/x-python",
   "name": "python",
   "nbconvert_exporter": "python",
   "pygments_lexer": "ipython3",
   "version": "3.9.15"
  }
 },
 "nbformat": 4,
 "nbformat_minor": 2
}