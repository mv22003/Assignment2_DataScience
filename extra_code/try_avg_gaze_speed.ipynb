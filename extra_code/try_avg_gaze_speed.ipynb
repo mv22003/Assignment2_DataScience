{
 "cells": [
  {
   "cell_type": "code",
   "execution_count": 2,
   "metadata": {
    "pycharm": {
     "name": "#%%\n"
    }
   },
   "outputs": [],
   "source": [
    "#Libraries\n",
    "import pandas as pd\n",
    "import numpy as np\n",
    "#from datetime import dt\n",
    "import math\n",
    "import os\n",
    "\n",
    "# Import code developed and functions\n",
    "#from feature_extraction import preprocess, flatten, label, select_group\n",
    "\n",
    "# Ignore warnings of appending dataframes\n",
    "import warnings\n",
    "warnings.simplefilter('ignore')"
   ]
  },
  {
   "cell_type": "code",
   "execution_count": 4,
   "metadata": {
    "pycharm": {
     "name": "#%%\n"
    }
   },
   "outputs": [],
   "source": [
    "#path = 'C:\\\\Users\\\\mverd\\\\Desktop\\\\IMD\\\\ESSEX\\\\PredictingEmpathy\\\\rawdata\\\\'\n",
    "#fname = 'test\\\\Participant0001.tsv'\n",
    "path = ''\n",
    "fname = 'C://Users/Ana/Desktop/Participant0001.tsv'\n",
    "df_table = pd.read_table(path + fname, sep='\\t',low_memory=False)\n"
   ]
  },
  {
   "cell_type": "code",
   "execution_count": 5,
   "metadata": {
    "pycharm": {
     "name": "#%%\n"
    }
   },
   "outputs": [
    {
     "data": {
      "text/plain": "       Recording timestamp Participant name Recording name  \\\n3083              23419315  Participant0001     Recording1   \n3084              23426120  Participant0001     Recording1   \n3085              23434449  Participant0001     Recording1   \n3086              23442782  Participant0001     Recording1   \n3087              23451119  Participant0001     Recording1   \n...                    ...              ...            ...   \n82494             43375993  Participant0001     Recording8   \n82495             43384336  Participant0001     Recording8   \n82496             43393702  Participant0001     Recording8   \n82497             43393702  Participant0001     Recording8   \n82498             43432292  Participant0001     Recording8   \n\n       Recording duration  Pupil diameter left  Pupil diameter right  \\\n3083                83579                  NaN                   NaN   \n3084                83579                  NaN                   NaN   \n3085                83579                  NaN                   NaN   \n3086                83579                 3.21                  3.14   \n3087                83579                  NaN                   NaN   \n...                   ...                  ...                   ...   \n82494               43548                  NaN                   NaN   \n82495               43548                  NaN                   NaN   \n82496               43548                  NaN                   NaN   \n82497               43548                  NaN                   NaN   \n82498               43548                  NaN                   NaN   \n\n       Gaze point X (MCSnorm)  Gaze point Y (MCSnorm) Eye movement type  \\\n3083                      NaN                     NaN          Fixation   \n3084                   0.5011                  0.3203          Fixation   \n3085                   0.5016                  0.3244          Fixation   \n3086                   0.5016                  0.3202          Fixation   \n3087                   0.5079                  0.3145          Fixation   \n...                       ...                     ...               ...   \n82494                     NaN                     NaN      EyesNotFound   \n82495                     NaN                     NaN      EyesNotFound   \n82496                     NaN                     NaN               NaN   \n82497                     NaN                     NaN               NaN   \n82498                     NaN                     NaN               NaN   \n\n       Gaze event duration  Fixation point X (MCSnorm)  \\\n3083                 117.0                      0.5073   \n3084                 117.0                      0.5073   \n3085                 117.0                      0.5073   \n3086                 117.0                      0.5073   \n3087                 117.0                      0.5073   \n...                    ...                         ...   \n82494                922.0                         NaN   \n82495                922.0                         NaN   \n82496                  NaN                         NaN   \n82497                  NaN                         NaN   \n82498                  NaN                         NaN   \n\n       Fixation point Y (MCSnorm)  \n3083                        0.316  \n3084                        0.316  \n3085                        0.316  \n3086                        0.316  \n3087                        0.316  \n...                           ...  \n82494                         NaN  \n82495                         NaN  \n82496                         NaN  \n82497                         NaN  \n82498                         NaN  \n\n[71206 rows x 12 columns]",
      "text/html": "<div>\n<style scoped>\n    .dataframe tbody tr th:only-of-type {\n        vertical-align: middle;\n    }\n\n    .dataframe tbody tr th {\n        vertical-align: top;\n    }\n\n    .dataframe thead th {\n        text-align: right;\n    }\n</style>\n<table border=\"1\" class=\"dataframe\">\n  <thead>\n    <tr style=\"text-align: right;\">\n      <th></th>\n      <th>Recording timestamp</th>\n      <th>Participant name</th>\n      <th>Recording name</th>\n      <th>Recording duration</th>\n      <th>Pupil diameter left</th>\n      <th>Pupil diameter right</th>\n      <th>Gaze point X (MCSnorm)</th>\n      <th>Gaze point Y (MCSnorm)</th>\n      <th>Eye movement type</th>\n      <th>Gaze event duration</th>\n      <th>Fixation point X (MCSnorm)</th>\n      <th>Fixation point Y (MCSnorm)</th>\n    </tr>\n  </thead>\n  <tbody>\n    <tr>\n      <th>3083</th>\n      <td>23419315</td>\n      <td>Participant0001</td>\n      <td>Recording1</td>\n      <td>83579</td>\n      <td>NaN</td>\n      <td>NaN</td>\n      <td>NaN</td>\n      <td>NaN</td>\n      <td>Fixation</td>\n      <td>117.0</td>\n      <td>0.5073</td>\n      <td>0.316</td>\n    </tr>\n    <tr>\n      <th>3084</th>\n      <td>23426120</td>\n      <td>Participant0001</td>\n      <td>Recording1</td>\n      <td>83579</td>\n      <td>NaN</td>\n      <td>NaN</td>\n      <td>0.5011</td>\n      <td>0.3203</td>\n      <td>Fixation</td>\n      <td>117.0</td>\n      <td>0.5073</td>\n      <td>0.316</td>\n    </tr>\n    <tr>\n      <th>3085</th>\n      <td>23434449</td>\n      <td>Participant0001</td>\n      <td>Recording1</td>\n      <td>83579</td>\n      <td>NaN</td>\n      <td>NaN</td>\n      <td>0.5016</td>\n      <td>0.3244</td>\n      <td>Fixation</td>\n      <td>117.0</td>\n      <td>0.5073</td>\n      <td>0.316</td>\n    </tr>\n    <tr>\n      <th>3086</th>\n      <td>23442782</td>\n      <td>Participant0001</td>\n      <td>Recording1</td>\n      <td>83579</td>\n      <td>3.21</td>\n      <td>3.14</td>\n      <td>0.5016</td>\n      <td>0.3202</td>\n      <td>Fixation</td>\n      <td>117.0</td>\n      <td>0.5073</td>\n      <td>0.316</td>\n    </tr>\n    <tr>\n      <th>3087</th>\n      <td>23451119</td>\n      <td>Participant0001</td>\n      <td>Recording1</td>\n      <td>83579</td>\n      <td>NaN</td>\n      <td>NaN</td>\n      <td>0.5079</td>\n      <td>0.3145</td>\n      <td>Fixation</td>\n      <td>117.0</td>\n      <td>0.5073</td>\n      <td>0.316</td>\n    </tr>\n    <tr>\n      <th>...</th>\n      <td>...</td>\n      <td>...</td>\n      <td>...</td>\n      <td>...</td>\n      <td>...</td>\n      <td>...</td>\n      <td>...</td>\n      <td>...</td>\n      <td>...</td>\n      <td>...</td>\n      <td>...</td>\n      <td>...</td>\n    </tr>\n    <tr>\n      <th>82494</th>\n      <td>43375993</td>\n      <td>Participant0001</td>\n      <td>Recording8</td>\n      <td>43548</td>\n      <td>NaN</td>\n      <td>NaN</td>\n      <td>NaN</td>\n      <td>NaN</td>\n      <td>EyesNotFound</td>\n      <td>922.0</td>\n      <td>NaN</td>\n      <td>NaN</td>\n    </tr>\n    <tr>\n      <th>82495</th>\n      <td>43384336</td>\n      <td>Participant0001</td>\n      <td>Recording8</td>\n      <td>43548</td>\n      <td>NaN</td>\n      <td>NaN</td>\n      <td>NaN</td>\n      <td>NaN</td>\n      <td>EyesNotFound</td>\n      <td>922.0</td>\n      <td>NaN</td>\n      <td>NaN</td>\n    </tr>\n    <tr>\n      <th>82496</th>\n      <td>43393702</td>\n      <td>Participant0001</td>\n      <td>Recording8</td>\n      <td>43548</td>\n      <td>NaN</td>\n      <td>NaN</td>\n      <td>NaN</td>\n      <td>NaN</td>\n      <td>NaN</td>\n      <td>NaN</td>\n      <td>NaN</td>\n      <td>NaN</td>\n    </tr>\n    <tr>\n      <th>82497</th>\n      <td>43393702</td>\n      <td>Participant0001</td>\n      <td>Recording8</td>\n      <td>43548</td>\n      <td>NaN</td>\n      <td>NaN</td>\n      <td>NaN</td>\n      <td>NaN</td>\n      <td>NaN</td>\n      <td>NaN</td>\n      <td>NaN</td>\n      <td>NaN</td>\n    </tr>\n    <tr>\n      <th>82498</th>\n      <td>43432292</td>\n      <td>Participant0001</td>\n      <td>Recording8</td>\n      <td>43548</td>\n      <td>NaN</td>\n      <td>NaN</td>\n      <td>NaN</td>\n      <td>NaN</td>\n      <td>NaN</td>\n      <td>NaN</td>\n      <td>NaN</td>\n      <td>NaN</td>\n    </tr>\n  </tbody>\n</table>\n<p>71206 rows × 12 columns</p>\n</div>"
     },
     "execution_count": 5,
     "metadata": {},
     "output_type": "execute_result"
    }
   ],
   "source": [
    "# Remove calibration points in recording\n",
    "startPoints = df_table[df_table['Event']=='ImageStimulusStart'].index.values.astype(int)\n",
    "endPoints = df_table[df_table['Event']=='ImageStimulusEnd'].index.values.astype(int)\n",
    "\n",
    "# Store only image stimulus\n",
    "df = pd.DataFrame()\n",
    "\n",
    "for i in range(len(startPoints)):\n",
    "    start = startPoints[i]\n",
    "    end = endPoints[i]\n",
    "\n",
    "    trial = df_table.iloc[start:end+1]\n",
    "    df = pd.concat([df,trial])\n",
    "\n",
    "# Columns we are keeping\n",
    "df_col = ['Recording timestamp','Participant name',\n",
    "            'Recording name','Recording duration',\n",
    "            'Pupil diameter left','Pupil diameter right',\n",
    "            'Gaze point X (MCSnorm)','Gaze point Y (MCSnorm)',\n",
    "            'Eye movement type','Gaze event duration',\n",
    "            'Fixation point X (MCSnorm)','Fixation point Y (MCSnorm)']\n",
    "\n",
    "# Removing columns\n",
    "df_features = df[df_col]\n",
    "\n",
    "# Columns that need to be changed from object to float\n",
    "objColumns = ['Pupil diameter left','Pupil diameter right','Gaze point X (MCSnorm)',\n",
    "                'Gaze point Y (MCSnorm)','Fixation point X (MCSnorm)','Fixation point Y (MCSnorm)']\n",
    "\n",
    "# Change (commas) to (decimals) and convert object to float64\n",
    "for feature in objColumns:\n",
    "    df_features[feature] = df_features[feature].str.replace(',','.').astype(float)\n",
    "\n",
    "df_features"
   ]
  },
  {
   "cell_type": "code",
   "execution_count": 6,
   "metadata": {
    "pycharm": {
     "name": "#%%\n"
    }
   },
   "outputs": [
    {
     "data": {
      "text/plain": "array(['Fixation', 'Saccade', 'Unclassified', 'EyesNotFound', nan],\n      dtype=object)"
     },
     "execution_count": 6,
     "metadata": {},
     "output_type": "execute_result"
    }
   ],
   "source": [
    "df_features['Eye movement type'].unique()"
   ]
  },
  {
   "cell_type": "code",
   "execution_count": 10,
   "metadata": {
    "pycharm": {
     "name": "#%%\n"
    }
   },
   "outputs": [
    {
     "data": {
      "text/plain": "3083     1\n3084     1\n3085     1\n3086     1\n3087     1\n        ..\n82494    0\n82495    0\n82496    0\n82497    0\n82498    0\nName: Fixation, Length: 71206, dtype: int64"
     },
     "execution_count": 10,
     "metadata": {},
     "output_type": "execute_result"
    }
   ],
   "source": [
    "df_features['Eye movement type'] = df_features['Eye movement type'].replace((\"EyesNotFound\",np.nan), \"Unclassified\")\n",
    "mapFixation = {'Fixation':1, 'Saccade':0, 'Unclassified':0, 'EyesNotFound':0}\n",
    "\n",
    "df_features['Fixation'] = df_features['Eye movement type'].replace(mapFixation)\n",
    "df_features['Fixation']"
   ]
  },
  {
   "cell_type": "code",
   "execution_count": 42,
   "metadata": {
    "pycharm": {
     "name": "#%%\n"
    }
   },
   "outputs": [],
   "source": [
    "# ---------------------------------------------------------------------------\n",
    "def get_avg_sacc_speed(temp):\n",
    "    '''\n",
    "    Return average saccade speed\n",
    "    '''\n",
    "    #temp = df[df['Recording name'] == group]\n",
    "    diff = temp['Saccade'].diff().values\n",
    "    # changes from 0-1 (i.e., diff = 1) mean start of saccade; changes from 1->0 (i.e. diff = -1) mean end of saccade\n",
    "    start_idx = np.where(diff == 1)[0]\n",
    "    end_idx = np.where(diff == -1)[0]\n",
    "    i = 0\n",
    "    while start_idx[0] > end_idx[i]:\n",
    "        #print(i, start_idx[0], end_idx[i])\n",
    "        i += 1\n",
    "    end_idx = end_idx[i:]\n",
    "    speeds = []\n",
    "    for start, end in zip(start_idx, end_idx):\n",
    "        assert end > start\n",
    "        speeds.append(np.nanmean(temp['Speed'].iloc[start:end+1].values))  # average speed/saccade\n",
    "    return len(speeds), np.asarray(speeds).mean()  # number of saccades and average speed across saccades\n",
    "\n",
    "\n",
    "def get_avg_fix_duration(temp, srate=120):\n",
    "    '''\n",
    "    Return average fixation duration\n",
    "    param df: Dataframe with original recording\n",
    "    param group: name of recording session\n",
    "    param srate: sampling rate of data (default in dataset is 120 Hz)\n",
    "    '''\n",
    "    #temp = df[df['Recording name'] == group]\n",
    "    diff = temp['Fixation'].diff().values\n",
    "    # changes from 0-1 (i.e., diff = 1) indicate start of fixation; changes from 1->0 (i.e. diff = -1) indicate end of fixation\n",
    "    start_idx = np.where(diff == 1)[0]\n",
    "    end_idx = np.where(diff == -1)[0]\n",
    "    print(start_idx[:10], end_idx[:5])\n",
    "    i = 0\n",
    "    while start_idx[0] > end_idx[i]:\n",
    "        #print(i, start_idx[0], end_idx[i])\n",
    "        i += 1\n",
    "    end_idx = end_idx[i:]\n",
    "    durations = []\n",
    "    for start, end in zip(start_idx, end_idx):\n",
    "        assert end > start\n",
    "        durations.append((end-start+1)/srate)  # duration of fixation (number of rows/sampling rate)\n",
    "    return len(durations), np.asarray(durations).mean()  # number of fixations and average duration across fixations\n"
   ]
  },
  {
   "cell_type": "code",
   "execution_count": 43,
   "metadata": {
    "pycharm": {
     "name": "#%%\n"
    }
   },
   "outputs": [
    {
     "name": "stdout",
     "output_type": "stream",
     "text": [
      "[ 21 119 146 188 298 345 365 412 439 458] [ 10  34 141 160 205]\n",
      "0 21 10\n"
     ]
    },
    {
     "data": {
      "text/plain": "(2051, 0.17592637737688932)"
     },
     "execution_count": 43,
     "metadata": {},
     "output_type": "execute_result"
    }
   ],
   "source": [
    "get_avg_fix_duration(df_features, 120)"
   ]
  },
  {
   "cell_type": "code",
   "execution_count": 25,
   "outputs": [
    {
     "data": {
      "text/plain": "<AxesSubplot: >"
     },
     "execution_count": 25,
     "metadata": {},
     "output_type": "execute_result"
    },
    {
     "data": {
      "text/plain": "<Figure size 640x480 with 1 Axes>",
      "image/png": "[encoded data removed]"
     },
     "metadata": {},
     "output_type": "display_data"
    }
   ],
   "source": [
    "df_features['Fixation'][:500].plot()"
   ],
   "metadata": {
    "collapsed": false,
    "pycharm": {
     "name": "#%%\n"
    }
   }
  },
  {
   "cell_type": "code",
   "execution_count": null,
   "outputs": [],
   "source": [],
   "metadata": {
    "collapsed": false,
    "pycharm": {
     "name": "#%%\n"
    }
   }
  }
 ],
 "metadata": {
  "kernelspec": {
   "display_name": "tensorflow-gpu",
   "language": "python",
   "name": "python3"
  },
  "language_info": {
   "codemirror_mode": {
    "name": "ipython",
    "version": 3
   },
   "file_extension": ".py",
   "mimetype": "text/x-python",
   "name": "python",
   "nbconvert_exporter": "python",
   "pygments_lexer": "ipython3",
   "version": "3.9.15"
  }
 },
 "nbformat": 4,
 "nbformat_minor": 2
}