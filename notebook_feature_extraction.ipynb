{
 "cells": [
  {
   "cell_type": "code",
   "execution_count": 1,
   "id": "ea75f866",
   "metadata": {},
   "outputs": [],
   "source": [
    "#Libraries\n",
    "import pandas as pd\n",
    "import numpy as np\n",
    "import math\n",
    "import os\n",
    "\n",
    "# Import code developed and functions\n",
    "from feature_extraction import preprocess, flatten, label, select_group\n",
    "\n",
    "# Ignore warnings of appending dataframes\n",
    "import warnings\n",
    "warnings.simplefilter('ignore')  "
   ]
  },
  {
   "cell_type": "code",
   "execution_count": 2,
   "id": "898e8cf0",
   "metadata": {},
   "outputs": [],
   "source": [
    "# Load data of questionaries\n",
    "pathQ = 'C:\\\\Users\\\\mverd\\\\Desktop\\\\IMD\\\\ESSEX\\\\TERM2\\\\Modules\\\\Data Science and Decision Making\\\\Assignment2_Final\\\\questionnaries\\\\'"
   ]
  },
  {
   "cell_type": "code",
   "execution_count": 3,
   "id": "1c940098",
   "metadata": {},
   "outputs": [],
   "source": [
    "# SELECT GROUP\n",
    "# pathParticipants, groupSelect = select_group('test')\n",
    "pathParticipants, groupSelect = select_group('control')"
   ]
  },
  {
   "cell_type": "code",
   "execution_count": 4,
   "id": "177a3769",
   "metadata": {},
   "outputs": [
    {
     "name": "stdout",
     "output_type": "stream",
     "text": [
      "Participant # 2\n",
      "(5, 19)\n",
      "Participant # 4\n",
      "(9, 19)\n",
      "Participant # 6\n",
      "(13, 19)\n",
      "Participant # 8\n",
      "(17, 19)\n",
      "Participant # 10\n",
      "(4, 19)\n",
      "Participant # 12\n",
      "(4, 19)\n",
      "Participant # 14\n",
      "(4, 19)\n",
      "Participant # 16\n",
      "(4, 19)\n",
      "Participant # 18\n",
      "(4, 19)\n",
      "Participant # 20\n",
      "(4, 19)\n",
      "Participant # 22\n",
      "(4, 19)\n",
      "Participant # 24\n",
      "(4, 19)\n",
      "Participant # 26\n",
      "(4, 19)\n",
      "Participant # 28\n",
      "(4, 19)\n",
      "Participant # 30\n",
      "(4, 19)\n",
      "Participant # 32\n",
      "(3, 19)\n",
      "Participant # 34\n",
      "(4, 19)\n",
      "Participant # 36\n",
      "(4, 19)\n",
      "Participant # 38\n",
      "(4, 19)\n",
      "Participant # 40\n",
      "(4, 19)\n",
      "Participant # 42\n",
      "(4, 19)\n",
      "Participant # 44\n",
      "(4, 19)\n",
      "Participant # 46\n",
      "(4, 19)\n",
      "Participant # 48\n",
      "(4, 19)\n",
      "Participant # 50\n",
      "(4, 19)\n",
      "Participant # 52\n",
      "(4, 19)\n",
      "Participant # 54\n",
      "(4, 19)\n",
      "Participant # 56\n",
      "(4, 19)\n",
      "Participant # 58\n",
      "(4, 19)\n",
      "Participant # 60\n",
      "(4, 19)\n"
     ]
    }
   ],
   "source": [
    "# Initialize variables\n",
    "# -------------------------\n",
    "df_final = pd.DataFrame()   # DataFrame to store final features\n",
    "cont = 0                    # Counter to know which participant is in the loop\n",
    "num_trials = []             # List to store the num of trials per participant\n",
    "empathy_score = []          # List to store the empathy values of each recording\n",
    "#--------------------------\n",
    "\n",
    "label = label(pathQ,groupSelect)\n",
    "\n",
    "for file in os.listdir(pathParticipants):\n",
    "    # Preprocess for each participant\n",
    "    df = preprocess(pathParticipants,file)\n",
    "    \n",
    "    # Make sure each participant of the shape of each participant\n",
    "    print(df.shape)\n",
    "    num_trials = df.shape[0]\n",
    "        \n",
    "    # Save all recordings in df_final\n",
    "    df_final = pd.concat([df_final,df],axis=0,ignore_index=True)\n",
    "    \n",
    "    # Assign value of label to all participant recordings,\n",
    "    # this will multiply the number of trials by the empathy score\n",
    "    # and will assign the score to every recording of the participant\n",
    "    empathy_score.append(num_trials*[label[cont]])\n",
    "    cont += 1\n",
    "    \n",
    "# Since we are appending list into a list, we flatten the variable into only one list\n",
    "# for it to be able to insert into the df\n",
    "empathyScoresFlat = flatten(empathy_score)\n",
    "df_final['Empathy Score'] = empathyScoresFlat"
   ]
  },
  {
   "cell_type": "code",
   "execution_count": 5,
   "id": "ad0fd61b",
   "metadata": {},
   "outputs": [
    {
     "data": {
      "text/plain": [
       "2.0      5\n",
       "4.0      9\n",
       "6.0     13\n",
       "8.0     17\n",
       "10.0     4\n",
       "12.0     4\n",
       "14.0     4\n",
       "16.0     4\n",
       "18.0     4\n",
       "20.0     4\n",
       "22.0     4\n",
       "24.0     4\n",
       "26.0     4\n",
       "28.0     4\n",
       "30.0     4\n",
       "32.0     3\n",
       "34.0     4\n",
       "36.0     4\n",
       "38.0     4\n",
       "40.0     4\n",
       "42.0     4\n",
       "44.0     4\n",
       "46.0     4\n",
       "48.0     4\n",
       "50.0     4\n",
       "52.0     4\n",
       "54.0     4\n",
       "56.0     4\n",
       "58.0     4\n",
       "60.0     4\n",
       "Name: Participant name, dtype: int64"
      ]
     },
     "execution_count": 5,
     "metadata": {},
     "output_type": "execute_result"
    }
   ],
   "source": [
    "# Print to visualize the number of recording per participant,\n",
    "# to verify the dataframe\n",
    "df_final['Participant name'].value_counts().sort_index()"
   ]
  },
  {
   "cell_type": "code",
   "execution_count": 10,
   "id": "f96e106b",
   "metadata": {},
   "outputs": [],
   "source": [
    "# df_final"
   ]
  },
  {
   "cell_type": "code",
   "execution_count": 7,
   "id": "b44d1adf",
   "metadata": {},
   "outputs": [],
   "source": [
    "# df_final.to_csv('Final_Features_test.csv', index=False)\n",
    "# df_final.to_csv('Final_Features_control.csv', index=False)"
   ]
  }
 ],
 "metadata": {
  "kernelspec": {
   "display_name": "Python 3 (ipykernel)",
   "language": "python",
   "name": "python3"
  },
  "language_info": {
   "codemirror_mode": {
    "name": "ipython",
    "version": 3
   },
   "file_extension": ".py",
   "mimetype": "text/x-python",
   "name": "python",
   "nbconvert_exporter": "python",
   "pygments_lexer": "ipython3",
   "version": "3.9.15"
  }
 },
 "nbformat": 4,
 "nbformat_minor": 5
}
